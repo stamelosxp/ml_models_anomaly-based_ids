{
 "cells": [
  {
   "metadata": {
    "ExecuteTime": {
     "end_time": "2025-05-29T12:10:08.729514Z",
     "start_time": "2025-05-29T12:09:56.926842Z"
    }
   },
   "cell_type": "code",
   "source": [
    "from sklearn.metrics import accuracy_score, classification_report, confusion_matrix, recall_score, precision_score, f1_score, roc_auc_score, log_loss\n",
    "\n",
    "import torch\n",
    "import torch.nn as nn\n",
    "import torch.optim as optim\n",
    "from torch.utils.data import TensorDataset, DataLoader\n",
    "\n",
    "import optuna\n",
    "\n",
    "import pandas as pd\n",
    "import matplotlib.pyplot as plt\n",
    "\n",
    "\n",
    "#load the preprocessed data\n",
    "X_train = pd.read_csv(\"X_train_bin.csv\")\n",
    "X_test = pd.read_csv(\"X_test_bin.csv\")\n",
    "y_train = pd.read_csv(\"y_train_bin.csv\").squeeze()\n",
    "y_test = pd.read_csv(\"y_test_bin.csv\").squeeze()"
   ],
   "id": "4c503003fa0ea97e",
   "outputs": [],
   "execution_count": 1
  },
  {
   "metadata": {
    "ExecuteTime": {
     "end_time": "2025-05-29T12:10:08.938639Z",
     "start_time": "2025-05-29T12:10:08.879569Z"
    }
   },
   "cell_type": "code",
   "source": [
    "#dataframes to tensors\n",
    "X_train_tensor = torch.tensor(X_train.values, dtype=torch.float32)\n",
    "y_train_tensor = torch.tensor(y_train.values, dtype=torch.float32).view(-1, 1)\n",
    "X_test_tensor = torch.tensor(X_test.values, dtype=torch.float32)\n",
    "y_test_tensor = torch.tensor(y_test.values, dtype=torch.float32).view(-1, 1)"
   ],
   "id": "912166e5a94b0811",
   "outputs": [],
   "execution_count": 2
  },
  {
   "metadata": {
    "ExecuteTime": {
     "end_time": "2025-05-29T12:10:09.134676Z",
     "start_time": "2025-05-29T12:10:08.967071Z"
    }
   },
   "cell_type": "code",
   "source": [
    "#Load the data to gpu if available\n",
    "device = torch.device(\"cuda\" if torch.cuda.is_available() else \"cpu\")\n",
    "X_train_tensor = X_train_tensor.to(device)\n",
    "y_train_tensor = y_train_tensor.to(device)\n",
    "X_test_tensor = X_test_tensor.to(device)\n",
    "y_test_tensor = y_test_tensor.to(device)"
   ],
   "id": "68dc743c9666758",
   "outputs": [],
   "execution_count": 3
  },
  {
   "metadata": {
    "ExecuteTime": {
     "end_time": "2025-05-29T12:10:09.272402Z",
     "start_time": "2025-05-29T12:10:09.268515Z"
    }
   },
   "cell_type": "code",
   "source": [
    "#train and test sets loaders\n",
    "train_dataset = TensorDataset(X_train_tensor, y_train_tensor)\n",
    "test_dataset = TensorDataset(X_test_tensor, y_test_tensor)"
   ],
   "id": "b9f293aa111bc327",
   "outputs": [],
   "execution_count": 4
  },
  {
   "metadata": {
    "ExecuteTime": {
     "end_time": "2025-05-29T12:10:09.310523Z",
     "start_time": "2025-05-29T12:10:09.306633Z"
    }
   },
   "cell_type": "code",
   "source": [
    "# Loss function\n",
    "loss_fn = nn.BCEWithLogitsLoss()"
   ],
   "id": "bd60ae5137c660f7",
   "outputs": [],
   "execution_count": 5
  },
  {
   "metadata": {
    "ExecuteTime": {
     "end_time": "2025-05-29T14:05:39.117089Z",
     "start_time": "2025-05-29T12:10:09.343949Z"
    }
   },
   "cell_type": "code",
   "source": [
    "# Optuna study\n",
    "study = optuna.create_study(direction='minimize')\n",
    "num_epochs = 10\n",
    "\n",
    "def objective(trial):\n",
    "\n",
    "    #define hyperparameters\n",
    "    n_layers = trial.suggest_int('n_layers', 2, 5)\n",
    "    hidden_sizes = [trial.suggest_int(f'units_l{i}', 10, 128) for i in range(n_layers)]\n",
    "    dropout = trial.suggest_float('dropout', 0.2, 0.7)\n",
    "    lr = trial.suggest_float('lr', 1e-4, 1e-2, log=True)\n",
    "    batch_size = trial.suggest_categorical('batch_size', [256, 512, 1024, 2048, 3000, 4096, 5000, 7500, 8192])\n",
    "    optimizer_name = trial.suggest_categorical('optimizer', ['Adam', 'RMSprop', 'SGD'])\n",
    "\n",
    "    # Build model\n",
    "    layers = []\n",
    "    in_features = X_train_tensor.shape[1]\n",
    "    for units in hidden_sizes:\n",
    "        layers.append(nn.Linear(in_features, units))\n",
    "        layers.append(nn.ReLU())\n",
    "        layers.append(nn.Dropout(dropout))\n",
    "        in_features = units\n",
    "    layers.append(nn.Linear(in_features, 1))\n",
    "    model = nn.Sequential(*layers).to(device)\n",
    "\n",
    "    # Optimizer\n",
    "    optimizer = getattr(optim, optimizer_name)(model.parameters(), lr=lr)\n",
    "\n",
    "    #dataloaders with batch size based on optuna suggestion\n",
    "    train_loader = DataLoader(train_dataset, batch_size=batch_size, shuffle=False)\n",
    "    test_loader = DataLoader(test_dataset, batch_size=batch_size, shuffle=False)\n",
    "\n",
    "    #training phase\n",
    "    for epoch in range(num_epochs):\n",
    "        model.train()\n",
    "        for xb, yb in train_loader:\n",
    "            optimizer.zero_grad()\n",
    "            outputs = model(xb)\n",
    "            loss = loss_fn(outputs, yb)\n",
    "            loss.backward()\n",
    "            optimizer.step()\n",
    "\n",
    "    #validation phase\n",
    "    model.eval()\n",
    "    val_loss = 0.0\n",
    "    with torch.no_grad():\n",
    "        for xb, yb in test_loader:\n",
    "            outputs = model(xb)\n",
    "            val_loss += loss_fn(outputs, yb).item() * xb.size(0)\n",
    "    val_loss /= len(test_loader.dataset)\n",
    "    return val_loss\n",
    "\n",
    "# Run Optuna optimization\n",
    "study.optimize(objective, n_trials=50)"
   ],
   "id": "ef0a842f63f32994",
   "outputs": [
    {
     "name": "stderr",
     "output_type": "stream",
     "text": [
      "[I 2025-05-29 15:10:09,348] A new study created in memory with name: no-name-221a15e8-91ec-42d3-a6a8-2f379af0813f\n",
      "[I 2025-05-29 15:11:53,523] Trial 0 finished with value: 0.5407605414621788 and parameters: {'n_layers': 5, 'units_l0': 112, 'units_l1': 45, 'units_l2': 37, 'units_l3': 104, 'units_l4': 98, 'dropout': 0.23606610908077408, 'lr': 0.0017870584154464524, 'batch_size': 4096, 'optimizer': 'SGD'}. Best is trial 0 with value: 0.5407605414621788.\n",
      "[I 2025-05-29 15:13:40,048] Trial 1 finished with value: 0.5286916960767498 and parameters: {'n_layers': 3, 'units_l0': 104, 'units_l1': 55, 'units_l2': 44, 'dropout': 0.5135043228414135, 'lr': 0.000859012422858563, 'batch_size': 1024, 'optimizer': 'SGD'}. Best is trial 1 with value: 0.5286916960767498.\n",
      "[I 2025-05-29 15:15:17,325] Trial 2 finished with value: 0.013570461956892101 and parameters: {'n_layers': 5, 'units_l0': 73, 'units_l1': 61, 'units_l2': 123, 'units_l3': 66, 'units_l4': 57, 'dropout': 0.6784926314526227, 'lr': 0.0054686354188791374, 'batch_size': 2048, 'optimizer': 'Adam'}. Best is trial 2 with value: 0.013570461956892101.\n",
      "[I 2025-05-29 15:18:35,480] Trial 3 finished with value: 0.006754345584632815 and parameters: {'n_layers': 4, 'units_l0': 42, 'units_l1': 84, 'units_l2': 102, 'units_l3': 12, 'dropout': 0.5896845387843372, 'lr': 0.00010635453553647718, 'batch_size': 256, 'optimizer': 'RMSprop'}. Best is trial 3 with value: 0.006754345584632815.\n",
      "[I 2025-05-29 15:20:48,007] Trial 4 finished with value: 0.5289033196843962 and parameters: {'n_layers': 3, 'units_l0': 52, 'units_l1': 63, 'units_l2': 89, 'dropout': 0.6801665191783479, 'lr': 0.0005987151856614159, 'batch_size': 512, 'optimizer': 'SGD'}. Best is trial 3 with value: 0.006754345584632815.\n",
      "[I 2025-05-29 15:22:20,922] Trial 5 finished with value: 0.5267748301708779 and parameters: {'n_layers': 2, 'units_l0': 13, 'units_l1': 97, 'dropout': 0.22218948809848266, 'lr': 0.0016187746589174045, 'batch_size': 4096, 'optimizer': 'SGD'}. Best is trial 3 with value: 0.006754345584632815.\n",
      "[I 2025-05-29 15:23:53,274] Trial 6 finished with value: 0.010083687053064555 and parameters: {'n_layers': 2, 'units_l0': 115, 'units_l1': 82, 'dropout': 0.5245013141563282, 'lr': 0.00020475884142417798, 'batch_size': 3000, 'optimizer': 'Adam'}. Best is trial 3 with value: 0.006754345584632815.\n",
      "[I 2025-05-29 15:25:32,057] Trial 7 finished with value: 0.6697413323558982 and parameters: {'n_layers': 5, 'units_l0': 14, 'units_l1': 32, 'units_l2': 82, 'units_l3': 64, 'units_l4': 14, 'dropout': 0.6286589742191778, 'lr': 0.00019345966584696274, 'batch_size': 4096, 'optimizer': 'SGD'}. Best is trial 3 with value: 0.006754345584632815.\n",
      "[I 2025-05-29 15:27:15,077] Trial 8 finished with value: 0.003374612206446291 and parameters: {'n_layers': 3, 'units_l0': 98, 'units_l1': 52, 'units_l2': 112, 'dropout': 0.4146303868817929, 'lr': 0.00015739511511870128, 'batch_size': 1024, 'optimizer': 'RMSprop'}. Best is trial 8 with value: 0.003374612206446291.\n",
      "[I 2025-05-29 15:28:50,386] Trial 9 finished with value: 0.0035190567086642566 and parameters: {'n_layers': 4, 'units_l0': 123, 'units_l1': 17, 'units_l2': 17, 'units_l3': 68, 'dropout': 0.4272408616836919, 'lr': 0.0005564424811886658, 'batch_size': 2048, 'optimizer': 'RMSprop'}. Best is trial 8 with value: 0.003374612206446291.\n",
      "[I 2025-05-29 15:30:33,434] Trial 10 finished with value: 0.005802608864542143 and parameters: {'n_layers': 3, 'units_l0': 88, 'units_l1': 127, 'units_l2': 127, 'dropout': 0.3473250122843193, 'lr': 0.009370534081891825, 'batch_size': 1024, 'optimizer': 'RMSprop'}. Best is trial 8 with value: 0.003374612206446291.\n",
      "[I 2025-05-29 15:32:08,320] Trial 11 finished with value: 0.0030289126945053624 and parameters: {'n_layers': 4, 'units_l0': 127, 'units_l1': 11, 'units_l2': 10, 'units_l3': 128, 'dropout': 0.3862197583874418, 'lr': 0.00040922674853800334, 'batch_size': 2048, 'optimizer': 'RMSprop'}. Best is trial 11 with value: 0.0030289126945053624.\n",
      "[I 2025-05-29 15:33:41,300] Trial 12 finished with value: 0.006601801010289095 and parameters: {'n_layers': 4, 'units_l0': 92, 'units_l1': 13, 'units_l2': 57, 'units_l3': 128, 'dropout': 0.35868265393130094, 'lr': 0.0003043360224498909, 'batch_size': 7500, 'optimizer': 'RMSprop'}. Best is trial 11 with value: 0.0030289126945053624.\n",
      "[I 2025-05-29 15:35:21,058] Trial 13 finished with value: 0.11978075871656765 and parameters: {'n_layers': 3, 'units_l0': 127, 'units_l1': 29, 'units_l2': 16, 'dropout': 0.3615449524399792, 'lr': 0.00010322721710051653, 'batch_size': 8192, 'optimizer': 'RMSprop'}. Best is trial 11 with value: 0.0030289126945053624.\n",
      "[I 2025-05-29 15:36:56,762] Trial 14 finished with value: 0.004961025925497346 and parameters: {'n_layers': 4, 'units_l0': 93, 'units_l1': 40, 'units_l2': 68, 'units_l3': 104, 'dropout': 0.42885966412790005, 'lr': 0.00034337182911131593, 'batch_size': 5000, 'optimizer': 'RMSprop'}. Best is trial 11 with value: 0.0030289126945053624.\n",
      "[I 2025-05-29 15:38:35,227] Trial 15 finished with value: 0.006286182473980328 and parameters: {'n_layers': 2, 'units_l0': 75, 'units_l1': 11, 'dropout': 0.3031403218336523, 'lr': 0.0002553179546969593, 'batch_size': 1024, 'optimizer': 'RMSprop'}. Best is trial 11 with value: 0.0030289126945053624.\n",
      "[I 2025-05-29 15:40:06,538] Trial 16 finished with value: 0.0029661109159538185 and parameters: {'n_layers': 3, 'units_l0': 100, 'units_l1': 109, 'units_l2': 107, 'dropout': 0.5239172819509017, 'lr': 0.0004458920284373365, 'batch_size': 2048, 'optimizer': 'RMSprop'}. Best is trial 16 with value: 0.0029661109159538185.\n",
      "[I 2025-05-29 15:41:39,973] Trial 17 finished with value: 0.004969145218176236 and parameters: {'n_layers': 4, 'units_l0': 113, 'units_l1': 119, 'units_l2': 91, 'units_l3': 29, 'dropout': 0.5118779309771249, 'lr': 0.0018366265429366011, 'batch_size': 2048, 'optimizer': 'Adam'}. Best is trial 16 with value: 0.0029661109159538185.\n",
      "[I 2025-05-29 15:43:13,730] Trial 18 finished with value: 0.003604723195576573 and parameters: {'n_layers': 4, 'units_l0': 128, 'units_l1': 107, 'units_l2': 33, 'units_l3': 128, 'dropout': 0.5566533104907947, 'lr': 0.000554558333445361, 'batch_size': 2048, 'optimizer': 'RMSprop'}. Best is trial 16 with value: 0.0029661109159538185.\n",
      "[I 2025-05-29 15:44:45,157] Trial 19 finished with value: 0.003309409580682451 and parameters: {'n_layers': 3, 'units_l0': 61, 'units_l1': 74, 'units_l2': 62, 'dropout': 0.4648753780354481, 'lr': 0.0011602025499038915, 'batch_size': 2048, 'optimizer': 'RMSprop'}. Best is trial 16 with value: 0.0029661109159538185.\n",
      "[I 2025-05-29 15:46:20,693] Trial 20 finished with value: 0.009111410254373523 and parameters: {'n_layers': 5, 'units_l0': 83, 'units_l1': 105, 'units_l2': 106, 'units_l3': 96, 'units_l4': 121, 'dropout': 0.46760577369856937, 'lr': 0.003578502386394917, 'batch_size': 8192, 'optimizer': 'Adam'}. Best is trial 16 with value: 0.0029661109159538185.\n",
      "[I 2025-05-29 15:47:52,497] Trial 21 finished with value: 0.003810791461091896 and parameters: {'n_layers': 3, 'units_l0': 57, 'units_l1': 82, 'units_l2': 62, 'dropout': 0.48281301643645097, 'lr': 0.0010316580592650592, 'batch_size': 2048, 'optimizer': 'RMSprop'}. Best is trial 16 with value: 0.0029661109159538185.\n",
      "[I 2025-05-29 15:49:23,909] Trial 22 finished with value: 0.003185367079327104 and parameters: {'n_layers': 3, 'units_l0': 34, 'units_l1': 71, 'units_l2': 78, 'dropout': 0.388387552771272, 'lr': 0.000399322039583756, 'batch_size': 2048, 'optimizer': 'RMSprop'}. Best is trial 16 with value: 0.0029661109159538185.\n",
      "[I 2025-05-29 15:50:53,720] Trial 23 finished with value: 0.0042404839315821116 and parameters: {'n_layers': 2, 'units_l0': 31, 'units_l1': 93, 'dropout': 0.3000097522053004, 'lr': 0.0004035409151403936, 'batch_size': 2048, 'optimizer': 'RMSprop'}. Best is trial 16 with value: 0.0029661109159538185.\n",
      "[I 2025-05-29 15:52:20,364] Trial 24 finished with value: 0.007979262971512758 and parameters: {'n_layers': 3, 'units_l0': 26, 'units_l1': 111, 'units_l2': 81, 'dropout': 0.39529721932311235, 'lr': 0.0004344951757564589, 'batch_size': 7500, 'optimizer': 'RMSprop'}. Best is trial 16 with value: 0.0029661109159538185.\n",
      "[I 2025-05-29 15:53:51,314] Trial 25 finished with value: 0.0034768714738324107 and parameters: {'n_layers': 4, 'units_l0': 102, 'units_l1': 68, 'units_l2': 51, 'units_l3': 87, 'dropout': 0.29708020775744326, 'lr': 0.0007435261902206967, 'batch_size': 5000, 'optimizer': 'RMSprop'}. Best is trial 16 with value: 0.0029661109159538185.\n",
      "[I 2025-05-29 15:56:47,926] Trial 26 finished with value: 0.0030749667402896193 and parameters: {'n_layers': 3, 'units_l0': 36, 'units_l1': 24, 'units_l2': 77, 'dropout': 0.38300972902958463, 'lr': 0.0001535416744746968, 'batch_size': 256, 'optimizer': 'RMSprop'}. Best is trial 16 with value: 0.0029661109159538185.\n",
      "[I 2025-05-29 15:59:28,965] Trial 27 finished with value: 0.006745615954652335 and parameters: {'n_layers': 2, 'units_l0': 80, 'units_l1': 24, 'dropout': 0.5666013795129364, 'lr': 0.00014266928499656576, 'batch_size': 256, 'optimizer': 'RMSprop'}. Best is trial 16 with value: 0.0029661109159538185.\n",
      "[I 2025-05-29 16:02:47,139] Trial 28 finished with value: 0.002124754267669173 and parameters: {'n_layers': 4, 'units_l0': 67, 'units_l1': 20, 'units_l2': 95, 'units_l3': 50, 'dropout': 0.2582058239034972, 'lr': 0.00023490613377757458, 'batch_size': 256, 'optimizer': 'RMSprop'}. Best is trial 28 with value: 0.002124754267669173.\n",
      "[I 2025-05-29 16:04:20,946] Trial 29 finished with value: 0.004436557280438739 and parameters: {'n_layers': 5, 'units_l0': 64, 'units_l1': 42, 'units_l2': 116, 'units_l3': 44, 'units_l4': 12, 'dropout': 0.22832382407233284, 'lr': 0.00025104889768023806, 'batch_size': 3000, 'optimizer': 'Adam'}. Best is trial 28 with value: 0.002124754267669173.\n",
      "[I 2025-05-29 16:06:34,432] Trial 30 finished with value: 0.5383615843845039 and parameters: {'n_layers': 4, 'units_l0': 119, 'units_l1': 36, 'units_l2': 98, 'units_l3': 48, 'dropout': 0.2685759391064644, 'lr': 0.00026301038519246787, 'batch_size': 512, 'optimizer': 'SGD'}. Best is trial 28 with value: 0.002124754267669173.\n",
      "[I 2025-05-29 16:09:49,205] Trial 31 finished with value: 0.002246420818923964 and parameters: {'n_layers': 4, 'units_l0': 48, 'units_l1': 23, 'units_l2': 92, 'units_l3': 83, 'dropout': 0.260232667599884, 'lr': 0.00015135408530086392, 'batch_size': 256, 'optimizer': 'RMSprop'}. Best is trial 28 with value: 0.002124754267669173.\n",
      "[I 2025-05-29 16:13:05,073] Trial 32 finished with value: 0.0023534486407524114 and parameters: {'n_layers': 4, 'units_l0': 109, 'units_l1': 24, 'units_l2': 94, 'units_l3': 81, 'dropout': 0.2530651029094457, 'lr': 0.00018106459489444752, 'batch_size': 256, 'optimizer': 'RMSprop'}. Best is trial 28 with value: 0.002124754267669173.\n",
      "[I 2025-05-29 16:16:20,504] Trial 33 finished with value: 0.0025294407284659347 and parameters: {'n_layers': 4, 'units_l0': 48, 'units_l1': 49, 'units_l2': 95, 'units_l3': 83, 'dropout': 0.26667614030007203, 'lr': 0.00019959122552223426, 'batch_size': 256, 'optimizer': 'RMSprop'}. Best is trial 28 with value: 0.002124754267669173.\n",
      "[I 2025-05-29 16:19:51,763] Trial 34 finished with value: 0.0035152158982244453 and parameters: {'n_layers': 5, 'units_l0': 46, 'units_l1': 51, 'units_l2': 92, 'units_l3': 82, 'units_l4': 63, 'dropout': 0.20289563222303633, 'lr': 0.00012639854603029181, 'batch_size': 256, 'optimizer': 'RMSprop'}. Best is trial 28 with value: 0.002124754267669173.\n",
      "[I 2025-05-29 16:23:07,531] Trial 35 finished with value: 0.0021492313187576333 and parameters: {'n_layers': 4, 'units_l0': 67, 'units_l1': 22, 'units_l2': 96, 'units_l3': 80, 'dropout': 0.2623794176903016, 'lr': 0.00018081696164278766, 'batch_size': 256, 'optimizer': 'RMSprop'}. Best is trial 28 with value: 0.002124754267669173.\n",
      "[I 2025-05-29 16:26:14,466] Trial 36 finished with value: 0.5348541182574859 and parameters: {'n_layers': 4, 'units_l0': 68, 'units_l1': 22, 'units_l2': 85, 'units_l3': 52, 'dropout': 0.3291464263114903, 'lr': 0.00018179922036937066, 'batch_size': 256, 'optimizer': 'SGD'}. Best is trial 28 with value: 0.002124754267669173.\n",
      "[I 2025-05-29 16:29:32,646] Trial 37 finished with value: 0.002523124746597094 and parameters: {'n_layers': 4, 'units_l0': 53, 'units_l1': 19, 'units_l2': 73, 'units_l3': 78, 'dropout': 0.2576166434751435, 'lr': 0.00011537695077891917, 'batch_size': 256, 'optimizer': 'Adam'}. Best is trial 28 with value: 0.002124754267669173.\n",
      "[I 2025-05-29 16:33:05,007] Trial 38 finished with value: 0.003006257643241197 and parameters: {'n_layers': 5, 'units_l0': 63, 'units_l1': 26, 'units_l2': 117, 'units_l3': 56, 'units_l4': 41, 'dropout': 0.24847290746651313, 'lr': 0.0002039374834094899, 'batch_size': 256, 'optimizer': 'RMSprop'}. Best is trial 28 with value: 0.002124754267669173.\n",
      "[I 2025-05-29 16:36:11,317] Trial 39 finished with value: 0.5370933148667068 and parameters: {'n_layers': 4, 'units_l0': 78, 'units_l1': 33, 'units_l2': 102, 'units_l3': 93, 'dropout': 0.20110241067029902, 'lr': 0.00012733549650711728, 'batch_size': 256, 'optimizer': 'SGD'}. Best is trial 28 with value: 0.002124754267669173.\n",
      "[I 2025-05-29 16:39:43,650] Trial 40 finished with value: 0.0026404934496154137 and parameters: {'n_layers': 5, 'units_l0': 69, 'units_l1': 58, 'units_l2': 99, 'units_l3': 37, 'units_l4': 100, 'dropout': 0.28416597505794217, 'lr': 0.00030764501269145227, 'batch_size': 256, 'optimizer': 'RMSprop'}. Best is trial 28 with value: 0.002124754267669173.\n",
      "[I 2025-05-29 16:43:01,957] Trial 41 finished with value: 0.002086180948649093 and parameters: {'n_layers': 4, 'units_l0': 55, 'units_l1': 17, 'units_l2': 69, 'units_l3': 76, 'dropout': 0.24803151425853845, 'lr': 0.00010682603942714946, 'batch_size': 256, 'optimizer': 'Adam'}. Best is trial 41 with value: 0.002086180948649093.\n",
      "[I 2025-05-29 16:46:19,367] Trial 42 finished with value: 0.0025827321568298615 and parameters: {'n_layers': 4, 'units_l0': 43, 'units_l1': 16, 'units_l2': 90, 'units_l3': 75, 'dropout': 0.22925325610327169, 'lr': 0.00010021712324535539, 'batch_size': 256, 'optimizer': 'Adam'}. Best is trial 41 with value: 0.002086180948649093.\n",
      "[I 2025-05-29 16:47:53,774] Trial 43 finished with value: 0.006899016813359701 and parameters: {'n_layers': 4, 'units_l0': 55, 'units_l1': 35, 'units_l2': 70, 'units_l3': 74, 'dropout': 0.32219792710224504, 'lr': 0.0001697259547141466, 'batch_size': 4096, 'optimizer': 'Adam'}. Best is trial 41 with value: 0.002086180948649093.\n",
      "[I 2025-05-29 16:51:11,506] Trial 44 finished with value: 0.001933293953400736 and parameters: {'n_layers': 4, 'units_l0': 107, 'units_l1': 20, 'units_l2': 109, 'units_l3': 60, 'dropout': 0.2725519019624006, 'lr': 0.0002363411909183287, 'batch_size': 256, 'optimizer': 'Adam'}. Best is trial 44 with value: 0.001933293953400736.\n",
      "[I 2025-05-29 16:54:29,267] Trial 45 finished with value: 0.00225109016235237 and parameters: {'n_layers': 4, 'units_l0': 71, 'units_l1': 18, 'units_l2': 111, 'units_l3': 60, 'dropout': 0.32137474220327583, 'lr': 0.00025094496744156806, 'batch_size': 256, 'optimizer': 'Adam'}. Best is trial 44 with value: 0.001933293953400736.\n",
      "[I 2025-05-29 16:56:48,983] Trial 46 finished with value: 0.002725656458420105 and parameters: {'n_layers': 4, 'units_l0': 58, 'units_l1': 30, 'units_l2': 117, 'units_l3': 71, 'dropout': 0.2832283129728567, 'lr': 0.00014154539561598786, 'batch_size': 512, 'optimizer': 'Adam'}. Best is trial 44 with value: 0.001933293953400736.\n",
      "[I 2025-05-29 16:58:28,893] Trial 47 finished with value: 0.003059599800585477 and parameters: {'n_layers': 4, 'units_l0': 85, 'units_l1': 46, 'units_l2': 87, 'units_l3': 100, 'dropout': 0.23507549091145738, 'lr': 0.00022158726448705306, 'batch_size': 3000, 'optimizer': 'Adam'}. Best is trial 44 with value: 0.001933293953400736.\n",
      "[I 2025-05-29 17:01:51,415] Trial 48 finished with value: 0.01716536322981747 and parameters: {'n_layers': 4, 'units_l0': 21, 'units_l1': 11, 'units_l2': 124, 'units_l3': 114, 'dropout': 0.634978010034101, 'lr': 0.0003256695586745433, 'batch_size': 256, 'optimizer': 'Adam'}. Best is trial 44 with value: 0.001933293953400736.\n",
      "[I 2025-05-29 17:05:39,113] Trial 49 finished with value: 0.0033298624364342983 and parameters: {'n_layers': 5, 'units_l0': 49, 'units_l1': 39, 'units_l2': 104, 'units_l3': 61, 'units_l4': 86, 'dropout': 0.34149693296195466, 'lr': 0.00012173921070656273, 'batch_size': 256, 'optimizer': 'Adam'}. Best is trial 44 with value: 0.001933293953400736.\n"
     ]
    }
   ],
   "execution_count": 6
  },
  {
   "metadata": {
    "ExecuteTime": {
     "end_time": "2025-05-29T14:05:39.185999Z",
     "start_time": "2025-05-29T14:05:39.178820Z"
    }
   },
   "cell_type": "code",
   "source": [
    "# Print best result\n",
    "print(\"Best trial:\")\n",
    "trial = study.best_trial\n",
    "print(\"  Value: \", trial.value)\n",
    "print(\"  Params: \")\n",
    "for key, value in trial.params.items():\n",
    "    print(f\"    {key}: {value}\")"
   ],
   "id": "458ec6b6d2a782f7",
   "outputs": [
    {
     "name": "stdout",
     "output_type": "stream",
     "text": [
      "Best trial:\n",
      "  Value:  0.001933293953400736\n",
      "  Params: \n",
      "    n_layers: 4\n",
      "    units_l0: 107\n",
      "    units_l1: 20\n",
      "    units_l2: 109\n",
      "    units_l3: 60\n",
      "    dropout: 0.2725519019624006\n",
      "    lr: 0.0002363411909183287\n",
      "    batch_size: 256\n",
      "    optimizer: Adam\n"
     ]
    }
   ],
   "execution_count": 7
  },
  {
   "metadata": {
    "ExecuteTime": {
     "end_time": "2025-05-29T14:14:11.292709Z",
     "start_time": "2025-05-29T14:14:11.288563Z"
    }
   },
   "cell_type": "code",
   "source": [
    "input_dim = X_train_tensor.shape[1]\n",
    "device = torch.device(\"cuda\" if torch.cuda.is_available() else \"cpu\")"
   ],
   "id": "52d907fd76f5a24a",
   "outputs": [],
   "execution_count": 14
  },
  {
   "metadata": {
    "ExecuteTime": {
     "end_time": "2025-05-29T14:42:02.489603Z",
     "start_time": "2025-05-29T14:42:02.480302Z"
    }
   },
   "cell_type": "code",
   "source": [
    "#build the model from trial.params\n",
    "layers = []\n",
    "in_features = input_dim\n",
    "\n",
    "for i in range(trial.params[\"n_layers\"]):\n",
    "    out_features = trial.params[f\"units_l{i}\"]\n",
    "    layers.append(nn.Linear(in_features, out_features))\n",
    "    layers.append(nn.ReLU())\n",
    "    layers.append(nn.Dropout(trial.params[\"dropout\"]))\n",
    "    in_features = out_features\n",
    "\n",
    "layers.append(nn.Linear(in_features, 1))  # Output layer\n",
    "model_test = nn.Sequential(*layers).to(device)"
   ],
   "id": "d16e5b3ce3e51f25",
   "outputs": [],
   "execution_count": 20
  },
  {
   "metadata": {
    "ExecuteTime": {
     "end_time": "2025-05-29T14:42:04.351674Z",
     "start_time": "2025-05-29T14:42:04.346145Z"
    }
   },
   "cell_type": "code",
   "source": [
    "#create the optimizer based on trial.params\n",
    "if trial.params[\"optimizer\"] == \"Adam\":\n",
    "    optimizer = optim.Adam(model_test.parameters(), lr=trial.params[\"lr\"])\n",
    "elif trial.params[\"optimizer\"] == \"SGD\":\n",
    "    optimizer = optim.SGD(model_test.parameters(), lr=trial.params[\"lr\"])\n",
    "elif trial.params[\"optimizer\"] == \"RMSprop\":\n",
    "    optimizer = optim.RMSprop(model_test.parameters(), lr=trial.params[\"lr\"])\n",
    "else:\n",
    "    raise ValueError(f\"Unsupported optimizer: {trial.params['optimizer']}\")"
   ],
   "id": "8100ba47170c0740",
   "outputs": [],
   "execution_count": 21
  },
  {
   "metadata": {
    "ExecuteTime": {
     "end_time": "2025-05-29T14:42:08.106192Z",
     "start_time": "2025-05-29T14:42:08.101382Z"
    }
   },
   "cell_type": "code",
   "source": [
    "#create the dataloaders with the batch size from trial.params\n",
    "train_loader = DataLoader(train_dataset, batch_size=trial.params[\"batch_size\"], shuffle=True)\n",
    "test_loader = DataLoader(test_dataset, batch_size=trial.params[\"batch_size\"], shuffle=False)"
   ],
   "id": "d6f58a6c2df8f4d6",
   "outputs": [],
   "execution_count": 22
  },
  {
   "metadata": {
    "ExecuteTime": {
     "end_time": "2025-05-29T15:06:15.725240Z",
     "start_time": "2025-05-29T14:42:15.031930Z"
    }
   },
   "cell_type": "code",
   "source": [
    "criterion = nn.BCEWithLogitsLoss()\n",
    "epochs = 50\n",
    "\n",
    "#set up lists to store losses and recalls\n",
    "train_losses = []\n",
    "val_losses = []\n",
    "train_recalls = []\n",
    "val_recalls = []\n",
    "\n",
    "#start training\n",
    "for epoch in range(epochs):\n",
    "\n",
    "    #training phase\n",
    "    model_test.train()\n",
    "\n",
    "    running_train_loss = 0.0\n",
    "    train_preds = []\n",
    "    train_targets = []\n",
    "\n",
    "    #load the data in batches\n",
    "    for X_batch, y_batch in train_loader:\n",
    "        X_batch = X_batch.to(device)\n",
    "        y_batch = y_batch.to(device).float().view(-1, 1)\n",
    "\n",
    "        optimizer.zero_grad()\n",
    "        outputs = model_test(X_batch)\n",
    "        loss = criterion(outputs, y_batch)\n",
    "        loss.backward()\n",
    "        optimizer.step()\n",
    "\n",
    "        running_train_loss += loss.item() * X_batch.size(0)\n",
    "\n",
    "        preds = (torch.sigmoid(outputs) > 0.5).int()\n",
    "        train_preds.extend(preds.cpu().numpy().flatten())\n",
    "        train_targets.extend(y_batch.cpu().numpy().flatten())\n",
    "\n",
    "    # Calculate average loss and recall for training\n",
    "    avg_train_loss = running_train_loss / len(train_loader.dataset)\n",
    "    train_recall = recall_score(train_targets, train_preds)\n",
    "    train_losses.append(avg_train_loss)\n",
    "    train_recalls.append(train_recall)\n",
    "\n",
    "    #validation phase\n",
    "    model_test.eval()\n",
    "    running_val_loss = 0.0\n",
    "    val_preds = []\n",
    "    val_targets = []\n",
    "\n",
    "    #load the validation data in batches\n",
    "    with torch.no_grad():\n",
    "        for X_batch, y_batch in test_loader:\n",
    "            X_batch = X_batch.to(device)\n",
    "            y_batch = y_batch.to(device).float().view(-1, 1)\n",
    "\n",
    "            outputs = model_test(X_batch)\n",
    "            loss = criterion(outputs, y_batch)\n",
    "            running_val_loss += loss.item() * X_batch.size(0)\n",
    "\n",
    "            preds = (torch.sigmoid(outputs) > 0.5).int()\n",
    "            val_preds.extend(preds.cpu().numpy().flatten())\n",
    "            val_targets.extend(y_batch.cpu().numpy().flatten())\n",
    "\n",
    "    avg_val_loss = running_val_loss / len(test_loader.dataset)\n",
    "    val_recall = recall_score(val_targets, val_preds)\n",
    "    val_losses.append(avg_val_loss)\n",
    "    val_recalls.append(val_recall)\n",
    "\n",
    "    print(f\"Epoch {epoch+1}/{epochs} - \"\n",
    "          f\"Train Loss: {avg_train_loss} - Val Loss: {avg_val_loss} - \"\n",
    "          f\"Train Recall: {train_recall} - Val Recall: {val_recall}\")\n"
   ],
   "id": "8dff661b64065437",
   "outputs": [
    {
     "name": "stdout",
     "output_type": "stream",
     "text": [
      "Epoch 1/50 - Train Loss: 0.06888514082972012 - Val Loss: 0.007028711837144819 - Train Recall: 0.9065722990746172 - Val Recall: 0.9986374861619688\n",
      "Epoch 2/50 - Train Loss: 0.008316445534926725 - Val Loss: 0.0043657098254890345 - Train Recall: 0.9975777302575554 - Val Recall: 0.9990632717363536\n",
      "Epoch 3/50 - Train Loss: 0.005836193454632576 - Val Loss: 0.005508913858244092 - Train Recall: 0.9978568589974074 - Val Recall: 0.9864174401771268\n",
      "Epoch 4/50 - Train Loss: 0.004825318272415477 - Val Loss: 0.0029019458764694265 - Train Recall: 0.9980035198607194 - Val Recall: 0.9992619716710665\n",
      "Epoch 5/50 - Train Loss: 0.004460684452255811 - Val Loss: 0.002346042283137348 - Train Recall: 0.9980792157901709 - Val Recall: 0.9992903573760255\n",
      "Epoch 6/50 - Train Loss: 0.004031762594919268 - Val Loss: 0.0021493971536105452 - Train Recall: 0.9982306076490737 - Val Recall: 0.9992619716710665\n",
      "Epoch 7/50 - Train Loss: 0.003655843586371803 - Val Loss: 0.0025565772251178774 - Train Recall: 0.9982211456578922 - Val Recall: 0.9993897073433818\n",
      "Epoch 8/50 - Train Loss: 0.0034257363131074327 - Val Loss: 0.0021731237597593525 - Train Recall: 0.9985002743977442 - Val Recall: 0.9993897073433818\n",
      "Epoch 9/50 - Train Loss: 0.0034227719340036646 - Val Loss: 0.001993963338665763 - Train Recall: 0.9984009234903393 - Val Recall: 0.999276164523546\n",
      "Epoch 10/50 - Train Loss: 0.0033108812473275876 - Val Loss: 0.0027633258614540505 - Train Recall: 0.9984103854815207 - Val Recall: 0.9993613216384228\n",
      "Epoch 11/50 - Train Loss: 0.0032487984731954115 - Val Loss: 0.0021384974669048564 - Train Recall: 0.9983867305035672 - Val Recall: 0.9993755144909023\n",
      "Epoch 12/50 - Train Loss: 0.0031092369865454027 - Val Loss: 0.002056343695465748 - Train Recall: 0.9984766194197907 - Val Recall: 0.9993755144909023\n",
      "Epoch 13/50 - Train Loss: 0.002973481507567154 - Val Loss: 0.001767782332378983 - Train Recall: 0.9985996253051492 - Val Recall: 0.9993897073433818\n",
      "Epoch 14/50 - Train Loss: 0.0030515094945966856 - Val Loss: 0.002613650825134103 - Train Recall: 0.9984293094638835 - Val Recall: 0.9974452865536916\n",
      "Epoch 15/50 - Train Loss: 0.0028583776829334303 - Val Loss: 0.0016996742226209247 - Train Recall: 0.9986327422742842 - Val Recall: 0.9993755144909023\n",
      "Epoch 16/50 - Train Loss: 0.0028181636338631944 - Val Loss: 0.0015901471162678958 - Train Recall: 0.9986422042654656 - Val Recall: 0.9993471287859435\n",
      "Epoch 17/50 - Train Loss: 0.0028055300309759433 - Val Loss: 0.0016812515973119281 - Train Recall: 0.9984860814109722 - Val Recall: 0.9993755144909023\n",
      "Epoch 18/50 - Train Loss: 0.002706827721918211 - Val Loss: 0.0015969993725816556 - Train Recall: 0.9985807013227863 - Val Recall: 0.9993471287859435\n",
      "Epoch 19/50 - Train Loss: 0.002611427723764485 - Val Loss: 0.001858795294701123 - Train Recall: 0.9986611282478285 - Val Recall: 0.9993755144909023\n",
      "Epoch 20/50 - Train Loss: 0.002551644547555267 - Val Loss: 0.001595810353410019 - Train Recall: 0.9986895142213728 - Val Recall: 0.999332935933464\n",
      "Epoch 21/50 - Train Loss: 0.0025160606533192785 - Val Loss: 0.0015653331273749154 - Train Recall: 0.9987604791552335 - Val Recall: 0.9993897073433818\n",
      "Epoch 22/50 - Train Loss: 0.002550182177136156 - Val Loss: 0.0018082689058471215 - Train Recall: 0.9987746721420055 - Val Recall: 0.9993897073433818\n",
      "Epoch 23/50 - Train Loss: 0.002518372125127636 - Val Loss: 0.001449733742258569 - Train Recall: 0.9987462861684613 - Val Recall: 0.9993755144909023\n",
      "Epoch 24/50 - Train Loss: 0.002467907142061951 - Val Loss: 0.0015439580938727579 - Train Recall: 0.9987368241772798 - Val Recall: 0.9993897073433818\n",
      "Epoch 25/50 - Train Loss: 0.002313288914889872 - Val Loss: 0.0014762803127343527 - Train Recall: 0.9987084382037356 - Val Recall: 0.999276164523546\n",
      "Epoch 26/50 - Train Loss: 0.0025002130162013873 - Val Loss: 0.0018093570577637507 - Train Recall: 0.9987037072081448 - Val Recall: 0.9993897073433818\n",
      "Epoch 27/50 - Train Loss: 0.002734880183526424 - Val Loss: 0.001480404968031706 - Train Recall: 0.9987935961243685 - Val Recall: 0.999332935933464\n",
      "Epoch 28/50 - Train Loss: 0.0023260387616000867 - Val Loss: 0.0016140136045241008 - Train Recall: 0.998784134133187 - Val Recall: 0.9993897073433818\n",
      "Epoch 29/50 - Train Loss: 0.0024451495158932858 - Val Loss: 0.0019640831323387256 - Train Recall: 0.9986469352610563 - Val Recall: 0.9993897073433818\n",
      "Epoch 30/50 - Train Loss: 0.002382344495924814 - Val Loss: 0.001429684374697724 - Train Recall: 0.9986800522301913 - Val Recall: 0.9993897073433818\n",
      "Epoch 31/50 - Train Loss: 0.002300229817490208 - Val Loss: 0.002825784767060011 - Train Recall: 0.998751017164052 - Val Recall: 0.9993755144909023\n",
      "Epoch 32/50 - Train Loss: 0.002185379677277748 - Val Loss: 0.0015051742960224218 - Train Recall: 0.9987604791552335 - Val Recall: 0.9993755144909023\n",
      "Epoch 33/50 - Train Loss: 0.0022951060480607154 - Val Loss: 0.0013482364706047455 - Train Recall: 0.998817251102322 - Val Recall: 0.9993755144909023\n",
      "Epoch 34/50 - Train Loss: 0.002091856277185522 - Val Loss: 0.0014836537139863528 - Train Recall: 0.9989213330053176 - Val Recall: 0.9993897073433818\n",
      "Epoch 35/50 - Train Loss: 0.002283603732229765 - Val Loss: 0.0012565814683518405 - Train Recall: 0.9988125201067313 - Val Recall: 0.9993897073433818\n",
      "Epoch 36/50 - Train Loss: 0.0022126977768067682 - Val Loss: 0.0018365341666351754 - Train Recall: 0.9988077891111405 - Val Recall: 0.9993897073433818\n",
      "Epoch 37/50 - Train Loss: 0.002045721105994517 - Val Loss: 0.0015840233838319403 - Train Recall: 0.9989024090229548 - Val Recall: 0.9993755144909023\n",
      "Epoch 38/50 - Train Loss: 0.0021421495375764724 - Val Loss: 0.001363077779438255 - Train Recall: 0.9988692920538198 - Val Recall: 0.9993613216384228\n",
      "Epoch 39/50 - Train Loss: 0.002270286963392795 - Val Loss: 0.0014652367068214598 - Train Recall: 0.9988550990670477 - Val Recall: 0.9993187430809845\n",
      "Epoch 40/50 - Train Loss: 0.002176234370405666 - Val Loss: 0.0013425139218994164 - Train Recall: 0.9987983271199591 - Val Recall: 0.9993755144909023\n",
      "Epoch 41/50 - Train Loss: 0.0020322850165330544 - Val Loss: 0.0013009927872270558 - Train Recall: 0.9989166020097269 - Val Recall: 0.9993471287859435\n",
      "Epoch 42/50 - Train Loss: 0.0020982370527560875 - Val Loss: 0.001387293735462077 - Train Recall: 0.9989449879832712 - Val Recall: 0.9993897073433818\n",
      "Epoch 43/50 - Train Loss: 0.0020102562288127437 - Val Loss: 0.0012214720208855803 - Train Recall: 0.9990064909259505 - Val Recall: 0.999304550228505\n",
      "Epoch 44/50 - Train Loss: 0.00201060002503768 - Val Loss: 0.0017055058911725927 - Train Recall: 0.9988882160361826 - Val Recall: 0.9993897073433818\n",
      "Epoch 45/50 - Train Loss: 0.0021112930544833664 - Val Loss: 0.0012143352771900658 - Train Recall: 0.9987983271199591 - Val Recall: 0.9993755144909023\n",
      "Epoch 46/50 - Train Loss: 0.001993032658399859 - Val Loss: 0.0016720611626094182 - Train Recall: 0.9989828359479969 - Val Recall: 0.9993897073433818\n",
      "Epoch 47/50 - Train Loss: 0.0020535953141785275 - Val Loss: 0.001345279499127238 - Train Recall: 0.9988314440890941 - Val Recall: 0.9993755144909023\n",
      "Epoch 48/50 - Train Loss: 0.0020711680936447 - Val Loss: 0.0012494677681251821 - Train Recall: 0.9989071400185455 - Val Recall: 0.9993471287859435\n",
      "Epoch 49/50 - Train Loss: 0.002207548286044993 - Val Loss: 0.0011825827961365171 - Train Recall: 0.9988550990670477 - Val Recall: 0.999332935933464\n",
      "Epoch 50/50 - Train Loss: 0.0018852731302628238 - Val Loss: 0.0011405406083254991 - Train Recall: 0.9989213330053176 - Val Recall: 0.999332935933464\n"
     ]
    }
   ],
   "execution_count": 23
  },
  {
   "metadata": {
    "ExecuteTime": {
     "end_time": "2025-05-29T15:06:16.079469Z",
     "start_time": "2025-05-29T15:06:15.810973Z"
    }
   },
   "cell_type": "code",
   "source": [
    "#display the final plots for losses and recalls\n",
    "plt.figure(figsize=(12, 5))\n",
    "\n",
    "plt.subplot(1, 2, 1)\n",
    "plt.plot(train_losses, label='Train Loss')\n",
    "plt.plot(val_losses, label='Validation Loss')\n",
    "plt.xlabel('Epoch')\n",
    "plt.ylabel('Loss')\n",
    "plt.title('Train vs Validation Loss')\n",
    "plt.legend()\n",
    "plt.grid(True)\n",
    "\n",
    "# Plot recall\n",
    "plt.subplot(1, 2, 2)\n",
    "plt.plot(train_recalls, label='Train Recall')\n",
    "plt.plot(val_recalls, label='Validation Recall')\n",
    "plt.xlabel('Epoch')\n",
    "plt.ylabel('Recall')\n",
    "plt.title('Train vs Validation Recall')\n",
    "plt.legend()\n",
    "plt.grid(True)\n",
    "\n",
    "plt.tight_layout()\n",
    "plt.show()"
   ],
   "id": "f7dbb1ded3666f5f",
   "outputs": [
    {
     "data": {
      "text/plain": [
       "<Figure size 1200x500 with 2 Axes>"
      ],
      "image/png": "[encoded data removed]"
     },
     "metadata": {},
     "output_type": "display_data"
    }
   ],
   "execution_count": 24
  }
 ],
 "metadata": {
  "kernelspec": {
   "display_name": "Python 3",
   "language": "python",
   "name": "python3"
  },
  "language_info": {
   "codemirror_mode": {
    "name": "ipython",
    "version": 2
   },
   "file_extension": ".py",
   "mimetype": "text/x-python",
   "name": "python",
   "nbconvert_exporter": "python",
   "pygments_lexer": "ipython2",
   "version": "2.7.6"
  }
 },
 "nbformat": 4,
 "nbformat_minor": 5
}
