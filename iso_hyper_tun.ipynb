{
 "cells": [
  {
   "cell_type": "code",
   "id": "initial_id",
   "metadata": {
    "collapsed": true,
    "ExecuteTime": {
     "end_time": "2025-05-30T08:48:21.864879Z",
     "start_time": "2025-05-30T08:48:12.299793Z"
    }
   },
   "source": [
    "from sklearn.ensemble import IsolationForest\n",
    "\n",
    "from sklearn.metrics import accuracy_score, precision_score, recall_score, f1_score,confusion_matrix, make_scorer\n",
    "from sklearn.model_selection import GridSearchCV\n",
    "\n",
    "import pandas as pd\n",
    "import numpy as np\n",
    "import matplotlib.pyplot as plt\n",
    "import seaborn as sns\n",
    "\n",
    "\n",
    "#load the preprocessed data\n",
    "X_train = pd.read_csv(\"X_train_bin.csv\")\n",
    "X_test = pd.read_csv(\"X_test_bin.csv\")\n",
    "y_train = pd.read_csv(\"y_train_bin.csv\").squeeze()\n",
    "y_test = pd.read_csv(\"y_test_bin.csv\").squeeze()"
   ],
   "outputs": [],
   "execution_count": 1
  },
  {
   "metadata": {
    "ExecuteTime": {
     "end_time": "2025-05-26T22:42:40.241490Z",
     "start_time": "2025-05-26T22:42:40.232277Z"
    }
   },
   "cell_type": "code",
   "source": [
    "#get unique values and counts of each value\n",
    "unique, counts = np.unique(y_train, return_counts=True)\n",
    "cont_train = counts[1] / counts[0]"
   ],
   "id": "194d078e4d4b1dca",
   "outputs": [],
   "execution_count": 8
  },
  {
   "metadata": {
    "ExecuteTime": {
     "end_time": "2025-05-28T11:50:06.663908Z",
     "start_time": "2025-05-26T23:16:09.213048Z"
    }
   },
   "cell_type": "code",
   "source": [
    "# Custom recall function for supervised evaluation\n",
    "def custom_recall(y_true, y_pred):\n",
    "    # Isolation Forest: -1 = anomaly (mapped to 1), 1 = normal (mapped to 0)\n",
    "    y_pred_mapped = np.where(y_pred == -1, 1, 0)\n",
    "    return recall_score(y_true, y_pred_mapped, pos_label=1)\n",
    "\n",
    "# Create custom scorer using recall\n",
    "recall_scorer = make_scorer(custom_recall, greater_is_better=True)\n",
    "\n",
    "# Define hyperparameter grid\n",
    "param_grid = {\n",
    "    'n_estimators': [200, 400, 700, 800, 1000, 1200],\n",
    "    'max_samples': ['auto', 0.1, 0.4, 0.6, 0.8],\n",
    "    'contamination': ['auto',0.1, cont_train, 0.4],\n",
    "    'max_features': [0.7, 0.6, 0.55],\n",
    "}\n",
    "\n",
    "iso_forest = IsolationForest(\n",
    "    random_state=42,\n",
    "    verbose=0,\n",
    "    warm_start=True  # Can be disabled to save memory but didn't cause issues\n",
    ")\n",
    "\n",
    "grid_search = GridSearchCV(\n",
    "    estimator=iso_forest,\n",
    "    param_grid=param_grid,\n",
    "    scoring=recall_scorer,\n",
    "    cv=5,  # Cross validation value can be increased\n",
    "    n_jobs=-1,  # Runs sequentially\n",
    "    verbose=3,\n",
    "    pre_dispatch='2*n_jobs',  # Control memory usage\n",
    "    error_score='raise'\n",
    ")\n",
    "\n",
    "print(\"Starting grid search...\")\n",
    "grid_search.fit(X_train, y_train)\n",
    "\n",
    "print(\"\\nBest parameters found:\")\n",
    "print(grid_search.best_params_)\n",
    "print(f\"Best Recall score: {grid_search.best_score_:.4f}\")\n",
    "#the output is recall not f1 but need a lot of time to run again to prin recall score"
   ],
   "id": "36946ecd92e10a3",
   "outputs": [
    {
     "name": "stdout",
     "output_type": "stream",
     "text": [
      "Starting grid search...\n",
      "Fitting 5 folds for each of 360 candidates, totalling 1800 fits\n",
      "\n",
      "Best parameters found:\n",
      "{'contamination': 0.4, 'max_features': 0.6, 'max_samples': 0.4, 'n_estimators': 700}\n",
      "Best F1 score: 0.4290\n"
     ]
    }
   ],
   "execution_count": 15
  },
  {
   "metadata": {
    "ExecuteTime": {
     "end_time": "2025-05-28T11:50:29.932293Z",
     "start_time": "2025-05-28T11:50:06.826026Z"
    }
   },
   "cell_type": "code",
   "source": [
    "best_model = grid_search.best_estimator_\n",
    "y_pred_if = best_model.predict(X_test)\n",
    "y_pred = np.where(y_pred_if == -1, 0, 1)\n",
    "\n",
    "accuracy = accuracy_score(y_test, y_pred)\n",
    "precision = precision_score(y_test, y_pred)\n",
    "recall = recall_score(y_test, y_pred)\n",
    "f1 = f1_score(y_test, y_pred)\n",
    "\n",
    "print(\"\\nEvaluation Metrics with Best Model:\")\n",
    "print(f\"Accuracy: {accuracy:.4f}\")\n",
    "print(f\"Precision: {precision:.4f}\")\n",
    "print(f\"Recall: {recall:.4f}\")\n",
    "print(f\"F1-Score: {f1:.4f}\")\n"
   ],
   "id": "31511cbf1d5ed574",
   "outputs": [
    {
     "name": "stdout",
     "output_type": "stream",
     "text": [
      "\n",
      "Evaluation Metrics with Best Model:\n",
      "Accuracy: 0.4322\n",
      "Precision: 0.2145\n",
      "Recall: 0.5726\n",
      "F1-Score: 0.3121\n"
     ]
    }
   ],
   "execution_count": 16
  },
  {
   "metadata": {
    "ExecuteTime": {
     "end_time": "2025-05-28T11:50:30.465908Z",
     "start_time": "2025-05-28T11:50:29.993236Z"
    }
   },
   "cell_type": "code",
   "source": [
    "####NOTE####\n",
    "#the confusion matrix is inverted because the labels are inverted in the dataset\n",
    "#so the correct matrix is:\n",
    "#147740,95014\n",
    "#40347, 30111\n",
    "############\n",
    "\n",
    "\n",
    "labels = [\n",
    "    'Benign',\n",
    "    'Attack'\n",
    "]\n",
    "cm = confusion_matrix(y_test, y_pred)\n",
    "tn, fp, fn, tp = cm.ravel()\n",
    "\n",
    "sns.heatmap(cm, annot=True, fmt='d', cmap='Blues', xticklabels=labels, yticklabels=labels)\n",
    "\n",
    "plt.xlabel('Predicted Labels')\n",
    "plt.ylabel('True Labels')\n",
    "plt.title('Confusion Matrix')\n",
    "plt.xticks(rotation=45, ha='right')\n",
    "plt.yticks(rotation=0)\n",
    "plt.tight_layout()\n",
    "plt.show()"
   ],
   "id": "9dc2193d1179a5d4",
   "outputs": [
    {
     "data": {
      "text/plain": [
       "<Figure size 640x480 with 2 Axes>"
      ],
      "image/png": "[encoded data removed]"
     },
     "metadata": {},
     "output_type": "display_data"
    }
   ],
   "execution_count": 17
  }
 ],
 "metadata": {
  "kernelspec": {
   "display_name": "Python 3",
   "language": "python",
   "name": "python3"
  },
  "language_info": {
   "codemirror_mode": {
    "name": "ipython",
    "version": 2
   },
   "file_extension": ".py",
   "mimetype": "text/x-python",
   "name": "python",
   "nbconvert_exporter": "python",
   "pygments_lexer": "ipython2",
   "version": "2.7.6"
  }
 },
 "nbformat": 4,
 "nbformat_minor": 5
}
