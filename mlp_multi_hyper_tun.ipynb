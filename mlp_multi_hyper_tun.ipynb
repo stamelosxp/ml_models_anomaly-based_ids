{
 "cells": [
  {
   "cell_type": "code",
   "id": "initial_id",
   "metadata": {
    "collapsed": true,
    "ExecuteTime": {
     "end_time": "2025-05-29T15:48:11.429820Z",
     "start_time": "2025-05-29T15:48:01.632992Z"
    }
   },
   "source": [
    "from sklearn.metrics import recall_score\n",
    "\n",
    "import torch\n",
    "import torch.nn as nn\n",
    "import torch.optim as optim\n",
    "from torch.utils.data import TensorDataset, DataLoader\n",
    "\n",
    "import matplotlib.pyplot as plt\n",
    "import optuna\n",
    "import pandas as pd\n",
    "\n",
    "#load the preprocessed data\n",
    "X_train = pd.read_csv(\"X_train_multi.csv\")\n",
    "X_test = pd.read_csv(\"X_test_multi.csv\")\n",
    "y_train = pd.read_csv(\"y_train_multi.csv\").squeeze()\n",
    "y_test = pd.read_csv(\"y_test_multi.csv\").squeeze()\n",
    "num_classes = 11"
   ],
   "outputs": [],
   "execution_count": 1
  },
  {
   "metadata": {
    "ExecuteTime": {
     "end_time": "2025-05-29T15:48:11.679611Z",
     "start_time": "2025-05-29T15:48:11.623013Z"
    }
   },
   "cell_type": "code",
   "source": [
    "#dataframes to tensors\n",
    "X_train_tensor = torch.tensor(X_train.values, dtype=torch.float32)\n",
    "y_train_tensor = torch.tensor(y_train.values, dtype=torch.long)\n",
    "X_test_tensor = torch.tensor(X_test.values, dtype=torch.float32)\n",
    "y_test_tensor = torch.tensor(y_test.values, dtype=torch.long)"
   ],
   "id": "e849628bda860e79",
   "outputs": [],
   "execution_count": 2
  },
  {
   "metadata": {
    "ExecuteTime": {
     "end_time": "2025-05-29T15:48:11.943610Z",
     "start_time": "2025-05-29T15:48:11.708293Z"
    }
   },
   "cell_type": "code",
   "source": [
    "#Load the data to gpu if available\n",
    "device = torch.device(\"cuda\" if torch.cuda.is_available() else \"cpu\")\n",
    "X_train_tensor = X_train_tensor.to(device)\n",
    "y_train_tensor = y_train_tensor.to(device)\n",
    "X_test_tensor = X_test_tensor.to(device)\n",
    "y_test_tensor = y_test_tensor.to(device)"
   ],
   "id": "3d46cc132408a63b",
   "outputs": [],
   "execution_count": 3
  },
  {
   "metadata": {
    "ExecuteTime": {
     "end_time": "2025-05-29T15:48:12.194086Z",
     "start_time": "2025-05-29T15:48:12.190569Z"
    }
   },
   "cell_type": "code",
   "source": [
    "#train and test sets loaders\n",
    "train_dataset = TensorDataset(X_train_tensor, y_train_tensor)\n",
    "test_dataset = TensorDataset(X_test_tensor, y_test_tensor)"
   ],
   "id": "47225ad98fdb221",
   "outputs": [],
   "execution_count": 4
  },
  {
   "metadata": {
    "ExecuteTime": {
     "end_time": "2025-05-29T15:48:12.231103Z",
     "start_time": "2025-05-29T15:48:12.227147Z"
    }
   },
   "cell_type": "code",
   "source": [
    "#loss function for multi-class classification\n",
    "loss_fn = nn.CrossEntropyLoss()"
   ],
   "id": "d8932b6f61b5a062",
   "outputs": [],
   "execution_count": 5
  },
  {
   "metadata": {
    "ExecuteTime": {
     "end_time": "2025-05-29T17:23:21.795392Z",
     "start_time": "2025-05-29T15:49:02.319325Z"
    }
   },
   "cell_type": "code",
   "source": [
    "# Optuna study\n",
    "study = optuna.create_study(direction='minimize')\n",
    "num_epochs = 10\n",
    "\n",
    "def objective(trial):\n",
    "    # Define hyperparameters\n",
    "    n_layers = trial.suggest_int('n_layers', 2, 5)\n",
    "    hidden_sizes = [trial.suggest_int(f'units_l{i}', 10, 128) for i in range(n_layers)]\n",
    "    dropout = trial.suggest_float('dropout', 0.2, 0.7)\n",
    "    lr = trial.suggest_float('lr', 1e-4, 1e-2, log=True)\n",
    "    batch_size = trial.suggest_categorical('batch_size', [256, 512, 1024, 2048, 3000, 4096, 5000, 7500, 8192])\n",
    "    optimizer_name = trial.suggest_categorical('optimizer', ['Adam', 'RMSprop', 'SGD'])\n",
    "\n",
    "    # Build model\n",
    "    layers = []\n",
    "    in_features = X_train_tensor.shape[1]\n",
    "    for units in hidden_sizes:\n",
    "        layers.append(nn.Linear(in_features, units))\n",
    "        layers.append(nn.ReLU())\n",
    "        layers.append(nn.Dropout(dropout))\n",
    "        in_features = units\n",
    "    layers.append(nn.Linear(in_features, num_classes))  # Output layer for multi-class\n",
    "    model = nn.Sequential(*layers).to(device)\n",
    "\n",
    "    # Optimizer\n",
    "    optimizer = getattr(optim, optimizer_name)(model.parameters(), lr=lr)\n",
    "\n",
    "    # Data loaders with batch size based on Optuna suggestion\n",
    "    train_loader = DataLoader(train_dataset, batch_size=batch_size, shuffle=True)\n",
    "    test_loader = DataLoader(test_dataset, batch_size=batch_size, shuffle=False)\n",
    "\n",
    "    # Training phase\n",
    "    model.train()\n",
    "    for epoch in range(num_epochs):\n",
    "        for xb, yb in train_loader:\n",
    "            xb = xb.to(device)\n",
    "            yb = yb.to(device).long()  # Ensure target is long/int for CrossEntropyLoss\n",
    "            optimizer.zero_grad()\n",
    "            outputs = model(xb)  # shape: [batch_size, num_classes]\n",
    "            loss = loss_fn(outputs, yb)\n",
    "            loss.backward()\n",
    "            optimizer.step()\n",
    "\n",
    "    # Validation phase\n",
    "    model.eval()\n",
    "    val_loss = 0.0\n",
    "    with torch.no_grad():\n",
    "        for xb, yb in test_loader:\n",
    "            xb = xb.to(device)\n",
    "            yb = yb.to(device).long()\n",
    "            outputs = model(xb)\n",
    "            val_loss += loss_fn(outputs, yb).item() * xb.size(0)\n",
    "    val_loss /= len(test_loader.dataset)\n",
    "\n",
    "    return val_loss\n",
    "\n",
    "# Run Optuna optimization\n",
    "study.optimize(objective, n_trials=50)"
   ],
   "id": "591e086f6d0eed1d",
   "outputs": [
    {
     "name": "stderr",
     "output_type": "stream",
     "text": [
      "[I 2025-05-29 18:49:02,331] A new study created in memory with name: no-name-c2abdb83-3fa1-4069-976b-d367583f1d27\n",
      "[I 2025-05-29 18:51:21,776] Trial 0 finished with value: 0.18235142178342603 and parameters: {'n_layers': 3, 'units_l0': 21, 'units_l1': 41, 'units_l2': 69, 'dropout': 0.23043588085868955, 'lr': 0.0080818063615721, 'batch_size': 512, 'optimizer': 'SGD'}. Best is trial 0 with value: 0.18235142178342603.\n",
      "[I 2025-05-29 18:52:56,628] Trial 1 finished with value: 1.3556880884017803 and parameters: {'n_layers': 2, 'units_l0': 47, 'units_l1': 124, 'dropout': 0.2666853009522207, 'lr': 0.0002771077908011878, 'batch_size': 3000, 'optimizer': 'SGD'}. Best is trial 0 with value: 0.18235142178342603.\n",
      "[I 2025-05-29 18:54:28,217] Trial 2 finished with value: 0.006586400605879105 and parameters: {'n_layers': 2, 'units_l0': 73, 'units_l1': 56, 'dropout': 0.25044766505820204, 'lr': 0.003003037196296697, 'batch_size': 7500, 'optimizer': 'Adam'}. Best is trial 2 with value: 0.006586400605879105.\n",
      "[I 2025-05-29 18:56:07,490] Trial 3 finished with value: 0.017367744954847192 and parameters: {'n_layers': 5, 'units_l0': 97, 'units_l1': 72, 'units_l2': 13, 'units_l3': 33, 'units_l4': 81, 'dropout': 0.4499983627947167, 'lr': 0.00216841060359041, 'batch_size': 3000, 'optimizer': 'RMSprop'}. Best is trial 2 with value: 0.006586400605879105.\n",
      "[I 2025-05-29 18:57:48,020] Trial 4 finished with value: 0.1293653442036239 and parameters: {'n_layers': 5, 'units_l0': 85, 'units_l1': 128, 'units_l2': 61, 'units_l3': 28, 'units_l4': 95, 'dropout': 0.6272090282425198, 'lr': 0.00016737392594822517, 'batch_size': 5000, 'optimizer': 'RMSprop'}. Best is trial 2 with value: 0.006586400605879105.\n",
      "[I 2025-05-29 18:59:30,400] Trial 5 finished with value: 0.008890741391350859 and parameters: {'n_layers': 5, 'units_l0': 125, 'units_l1': 126, 'units_l2': 42, 'units_l3': 117, 'units_l4': 120, 'dropout': 0.5225385833073961, 'lr': 0.0002937204029062598, 'batch_size': 2048, 'optimizer': 'RMSprop'}. Best is trial 2 with value: 0.006586400605879105.\n",
      "[I 2025-05-29 19:02:09,089] Trial 6 finished with value: 0.0074132080706551685 and parameters: {'n_layers': 2, 'units_l0': 94, 'units_l1': 44, 'dropout': 0.40757488618717774, 'lr': 0.00014172646625677899, 'batch_size': 256, 'optimizer': 'RMSprop'}. Best is trial 2 with value: 0.006586400605879105.\n",
      "[I 2025-05-29 19:03:45,315] Trial 7 finished with value: 1.0386965476591046 and parameters: {'n_layers': 2, 'units_l0': 18, 'units_l1': 40, 'dropout': 0.597179764100179, 'lr': 0.0013048646328689096, 'batch_size': 5000, 'optimizer': 'SGD'}. Best is trial 2 with value: 0.006586400605879105.\n",
      "[I 2025-05-29 19:05:48,313] Trial 8 finished with value: 0.019506148281005217 and parameters: {'n_layers': 2, 'units_l0': 56, 'units_l1': 85, 'dropout': 0.5266397432821641, 'lr': 0.00570861546954112, 'batch_size': 512, 'optimizer': 'RMSprop'}. Best is trial 2 with value: 0.006586400605879105.\n",
      "[I 2025-05-29 19:07:22,261] Trial 9 finished with value: 0.030891823909800244 and parameters: {'n_layers': 4, 'units_l0': 110, 'units_l1': 63, 'units_l2': 37, 'units_l3': 46, 'dropout': 0.286844207534777, 'lr': 0.0004259482594191697, 'batch_size': 7500, 'optimizer': 'Adam'}. Best is trial 2 with value: 0.006586400605879105.\n",
      "[I 2025-05-29 19:09:03,467] Trial 10 finished with value: 0.008819963050455014 and parameters: {'n_layers': 3, 'units_l0': 67, 'units_l1': 19, 'units_l2': 125, 'dropout': 0.35719224926638116, 'lr': 0.0030445401609630095, 'batch_size': 8192, 'optimizer': 'Adam'}. Best is trial 2 with value: 0.006586400605879105.\n",
      "[I 2025-05-29 19:12:04,873] Trial 11 finished with value: 0.005768888005447246 and parameters: {'n_layers': 3, 'units_l0': 83, 'units_l1': 46, 'units_l2': 122, 'dropout': 0.37134670040406786, 'lr': 0.00010168824518968977, 'batch_size': 256, 'optimizer': 'Adam'}. Best is trial 11 with value: 0.005768888005447246.\n",
      "[I 2025-05-29 19:15:06,575] Trial 12 finished with value: 0.003368020427745081 and parameters: {'n_layers': 3, 'units_l0': 74, 'units_l1': 94, 'units_l2': 115, 'dropout': 0.3559021055582992, 'lr': 0.0006654256057425819, 'batch_size': 256, 'optimizer': 'Adam'}. Best is trial 12 with value: 0.003368020427745081.\n",
      "[I 2025-05-29 19:18:08,479] Trial 13 finished with value: 0.003950560784741763 and parameters: {'n_layers': 3, 'units_l0': 41, 'units_l1': 96, 'units_l2': 123, 'dropout': 0.3729441343803272, 'lr': 0.0006925658338652588, 'batch_size': 256, 'optimizer': 'Adam'}. Best is trial 12 with value: 0.003368020427745081.\n",
      "[I 2025-05-29 19:21:27,244] Trial 14 finished with value: 0.007257459198905985 and parameters: {'n_layers': 4, 'units_l0': 38, 'units_l1': 101, 'units_l2': 100, 'units_l3': 95, 'dropout': 0.3373566324336015, 'lr': 0.0006967964132391489, 'batch_size': 256, 'optimizer': 'Adam'}. Best is trial 12 with value: 0.003368020427745081.\n",
      "[I 2025-05-29 19:23:07,000] Trial 15 finished with value: 0.019881148757130075 and parameters: {'n_layers': 4, 'units_l0': 36, 'units_l1': 101, 'units_l2': 98, 'units_l3': 73, 'dropout': 0.4740987759865302, 'lr': 0.0007756734550816909, 'batch_size': 4096, 'optimizer': 'Adam'}. Best is trial 12 with value: 0.003368020427745081.\n",
      "[I 2025-05-29 19:24:52,964] Trial 16 finished with value: 0.0039398759063692945 and parameters: {'n_layers': 3, 'units_l0': 63, 'units_l1': 98, 'units_l2': 95, 'dropout': 0.315655289578613, 'lr': 0.0013265530095836176, 'batch_size': 1024, 'optimizer': 'Adam'}. Best is trial 12 with value: 0.003368020427745081.\n",
      "[I 2025-05-29 19:26:39,499] Trial 17 finished with value: 0.0032801218409078798 and parameters: {'n_layers': 3, 'units_l0': 62, 'units_l1': 81, 'units_l2': 95, 'dropout': 0.3229655837504751, 'lr': 0.0013886841418456182, 'batch_size': 1024, 'optimizer': 'Adam'}. Best is trial 17 with value: 0.0032801218409078798.\n",
      "[I 2025-05-29 19:28:29,602] Trial 18 finished with value: 0.0028194957855698127 and parameters: {'n_layers': 4, 'units_l0': 77, 'units_l1': 83, 'units_l2': 86, 'units_l3': 126, 'dropout': 0.20916371061614872, 'lr': 0.0018070070339350375, 'batch_size': 1024, 'optimizer': 'Adam'}. Best is trial 18 with value: 0.0028194957855698127.\n",
      "[I 2025-05-29 19:30:20,362] Trial 19 finished with value: 0.00577092206648005 and parameters: {'n_layers': 4, 'units_l0': 57, 'units_l1': 78, 'units_l2': 84, 'units_l3': 128, 'dropout': 0.20591810059637103, 'lr': 0.0019205914309119462, 'batch_size': 1024, 'optimizer': 'Adam'}. Best is trial 18 with value: 0.0028194957855698127.\n",
      "[I 2025-05-29 19:32:07,773] Trial 20 finished with value: 0.45932360358094076 and parameters: {'n_layers': 4, 'units_l0': 101, 'units_l1': 109, 'units_l2': 85, 'units_l3': 89, 'dropout': 0.20652767600955418, 'lr': 0.004381649215188182, 'batch_size': 1024, 'optimizer': 'SGD'}. Best is trial 18 with value: 0.0028194957855698127.\n",
      "[I 2025-05-29 19:33:53,490] Trial 21 finished with value: 0.0032798569178787112 and parameters: {'n_layers': 3, 'units_l0': 78, 'units_l1': 85, 'units_l2': 109, 'dropout': 0.3043330642044212, 'lr': 0.0011145268942020553, 'batch_size': 1024, 'optimizer': 'Adam'}. Best is trial 18 with value: 0.0028194957855698127.\n",
      "[I 2025-05-29 19:35:39,559] Trial 22 finished with value: 0.0030078442595531537 and parameters: {'n_layers': 3, 'units_l0': 83, 'units_l1': 82, 'units_l2': 107, 'dropout': 0.2987777516651392, 'lr': 0.0012766082684334311, 'batch_size': 1024, 'optimizer': 'Adam'}. Best is trial 18 with value: 0.0028194957855698127.\n",
      "[I 2025-05-29 19:37:30,004] Trial 23 finished with value: 0.004267559507599147 and parameters: {'n_layers': 4, 'units_l0': 83, 'units_l1': 111, 'units_l2': 107, 'units_l3': 103, 'dropout': 0.2897168401559945, 'lr': 0.0020403198697833912, 'batch_size': 1024, 'optimizer': 'Adam'}. Best is trial 18 with value: 0.0028194957855698127.\n",
      "[I 2025-05-29 19:39:16,500] Trial 24 finished with value: 0.0030940393550477276 and parameters: {'n_layers': 3, 'units_l0': 110, 'units_l1': 66, 'units_l2': 77, 'dropout': 0.2542096862178854, 'lr': 0.0011628271381699691, 'batch_size': 1024, 'optimizer': 'Adam'}. Best is trial 18 with value: 0.0028194957855698127.\n",
      "[I 2025-05-29 19:41:06,882] Trial 25 finished with value: 0.003287641328137328 and parameters: {'n_layers': 4, 'units_l0': 117, 'units_l1': 64, 'units_l2': 80, 'units_l3': 63, 'dropout': 0.24540434263792985, 'lr': 0.0004522582679206897, 'batch_size': 1024, 'optimizer': 'Adam'}. Best is trial 18 with value: 0.0028194957855698127.\n",
      "[I 2025-05-29 19:42:44,635] Trial 26 finished with value: 0.003077142276637534 and parameters: {'n_layers': 3, 'units_l0': 111, 'units_l1': 55, 'units_l2': 57, 'dropout': 0.20156877963099845, 'lr': 0.003106094794368493, 'batch_size': 2048, 'optimizer': 'Adam'}. Best is trial 18 with value: 0.0028194957855698127.\n",
      "[I 2025-05-29 19:44:27,556] Trial 27 finished with value: 0.004552739126183261 and parameters: {'n_layers': 4, 'units_l0': 91, 'units_l1': 53, 'units_l2': 52, 'units_l3': 12, 'dropout': 0.20744014442785003, 'lr': 0.003609857868844293, 'batch_size': 2048, 'optimizer': 'Adam'}. Best is trial 18 with value: 0.0028194957855698127.\n",
      "[I 2025-05-29 19:46:09,150] Trial 28 finished with value: 0.5047060673567788 and parameters: {'n_layers': 3, 'units_l0': 105, 'units_l1': 26, 'units_l2': 62, 'dropout': 0.40571247432654967, 'lr': 0.007303363434402623, 'batch_size': 2048, 'optimizer': 'SGD'}. Best is trial 18 with value: 0.0028194957855698127.\n",
      "[I 2025-05-29 19:47:58,631] Trial 29 finished with value: 0.029641716709423543 and parameters: {'n_layers': 5, 'units_l0': 124, 'units_l1': 76, 'units_l2': 27, 'units_l3': 74, 'units_l4': 12, 'dropout': 0.2296492428325386, 'lr': 0.009053176460767656, 'batch_size': 4096, 'optimizer': 'Adam'}. Best is trial 18 with value: 0.0028194957855698127.\n",
      "[I 2025-05-29 19:49:45,568] Trial 30 finished with value: 1.063928182885718 and parameters: {'n_layers': 4, 'units_l0': 90, 'units_l1': 88, 'units_l2': 70, 'units_l3': 111, 'dropout': 0.265127931314322, 'lr': 0.001813472665765948, 'batch_size': 8192, 'optimizer': 'SGD'}. Best is trial 18 with value: 0.0028194957855698127.\n",
      "[I 2025-05-29 19:51:24,436] Trial 31 finished with value: 0.005761164584803012 and parameters: {'n_layers': 3, 'units_l0': 112, 'units_l1': 67, 'units_l2': 74, 'dropout': 0.23921139647645076, 'lr': 0.0025284322785833644, 'batch_size': 2048, 'optimizer': 'Adam'}. Best is trial 18 with value: 0.0028194957855698127.\n",
      "[I 2025-05-29 19:53:40,715] Trial 32 finished with value: 0.003131087048243547 and parameters: {'n_layers': 3, 'units_l0': 117, 'units_l1': 54, 'units_l2': 57, 'dropout': 0.2679635661943143, 'lr': 0.0010075733638635995, 'batch_size': 512, 'optimizer': 'Adam'}. Best is trial 18 with value: 0.0028194957855698127.\n",
      "[I 2025-05-29 19:55:24,376] Trial 33 finished with value: 0.002864828490181734 and parameters: {'n_layers': 2, 'units_l0': 104, 'units_l1': 60, 'dropout': 0.22898848375464198, 'lr': 0.004735669168106327, 'batch_size': 1024, 'optimizer': 'Adam'}. Best is trial 18 with value: 0.0028194957855698127.\n",
      "[I 2025-05-29 19:57:01,106] Trial 34 finished with value: 0.003708684064295627 and parameters: {'n_layers': 2, 'units_l0': 101, 'units_l1': 38, 'dropout': 0.20280870867265594, 'lr': 0.0055464533843467625, 'batch_size': 3000, 'optimizer': 'Adam'}. Best is trial 18 with value: 0.0028194957855698127.\n",
      "[I 2025-05-29 19:58:44,062] Trial 35 finished with value: 0.0075828017524974135 and parameters: {'n_layers': 2, 'units_l0': 75, 'units_l1': 59, 'dropout': 0.6766314721601676, 'lr': 0.003938414483023767, 'batch_size': 1024, 'optimizer': 'Adam'}. Best is trial 18 with value: 0.0028194957855698127.\n",
      "[I 2025-05-29 20:00:20,965] Trial 36 finished with value: 0.0052626474639976386 and parameters: {'n_layers': 2, 'units_l0': 27, 'units_l1': 72, 'dropout': 0.23212775417461537, 'lr': 0.002773676119344881, 'batch_size': 2048, 'optimizer': 'RMSprop'}. Best is trial 18 with value: 0.0028194957855698127.\n",
      "[I 2025-05-29 20:01:53,689] Trial 37 finished with value: 0.010456404958400872 and parameters: {'n_layers': 2, 'units_l0': 128, 'units_l1': 34, 'dropout': 0.2771474261177364, 'lr': 0.00164569458131283, 'batch_size': 7500, 'optimizer': 'Adam'}. Best is trial 18 with value: 0.0028194957855698127.\n",
      "[I 2025-05-29 20:03:32,307] Trial 38 finished with value: 0.8715148805519976 and parameters: {'n_layers': 5, 'units_l0': 99, 'units_l1': 48, 'units_l2': 88, 'units_l3': 128, 'units_l4': 14, 'dropout': 0.24636263753349608, 'lr': 0.005042980353161826, 'batch_size': 5000, 'optimizer': 'SGD'}. Best is trial 18 with value: 0.0028194957855698127.\n",
      "[I 2025-05-29 20:05:14,808] Trial 39 finished with value: 0.0035538141442513146 and parameters: {'n_layers': 2, 'units_l0': 89, 'units_l1': 73, 'dropout': 0.22645675580643373, 'lr': 0.0064704138387519025, 'batch_size': 1024, 'optimizer': 'RMSprop'}. Best is trial 18 with value: 0.0028194957855698127.\n",
      "[I 2025-05-29 20:06:49,919] Trial 40 finished with value: 0.004099923247420927 and parameters: {'n_layers': 2, 'units_l0': 95, 'units_l1': 59, 'dropout': 0.29587519425073067, 'lr': 0.002413491819781954, 'batch_size': 3000, 'optimizer': 'Adam'}. Best is trial 18 with value: 0.0028194957855698127.\n",
      "[I 2025-05-29 20:08:36,255] Trial 41 finished with value: 0.0031529214645428603 and parameters: {'n_layers': 3, 'units_l0': 110, 'units_l1': 66, 'units_l2': 48, 'dropout': 0.25776617140084007, 'lr': 0.003379848879995511, 'batch_size': 1024, 'optimizer': 'Adam'}. Best is trial 18 with value: 0.0028194957855698127.\n",
      "[I 2025-05-29 20:10:23,311] Trial 42 finished with value: 0.0029894813661869696 and parameters: {'n_layers': 3, 'units_l0': 121, 'units_l1': 90, 'units_l2': 72, 'dropout': 0.22499922930440874, 'lr': 0.0008416288182237515, 'batch_size': 1024, 'optimizer': 'Adam'}. Best is trial 18 with value: 0.0028194957855698127.\n",
      "[I 2025-05-29 20:12:10,645] Trial 43 finished with value: 0.0025090400533955425 and parameters: {'n_layers': 3, 'units_l0': 120, 'units_l1': 92, 'units_l2': 67, 'dropout': 0.22675761337411485, 'lr': 0.0008396370943424193, 'batch_size': 1024, 'optimizer': 'Adam'}. Best is trial 43 with value: 0.0025090400533955425.\n",
      "[I 2025-05-29 20:13:57,847] Trial 44 finished with value: 0.0028100089680560543 and parameters: {'n_layers': 3, 'units_l0': 121, 'units_l1': 110, 'units_l2': 67, 'dropout': 0.22486521094181328, 'lr': 0.0005077891962804698, 'batch_size': 1024, 'optimizer': 'Adam'}. Best is trial 43 with value: 0.0025090400533955425.\n",
      "[I 2025-05-29 20:15:49,048] Trial 45 finished with value: 0.002755331523243701 and parameters: {'n_layers': 4, 'units_l0': 121, 'units_l1': 118, 'units_l2': 68, 'units_l3': 84, 'dropout': 0.2281601207640088, 'lr': 0.0005178662050343511, 'batch_size': 1024, 'optimizer': 'RMSprop'}. Best is trial 43 with value: 0.0025090400533955425.\n",
      "[I 2025-05-29 20:18:10,415] Trial 46 finished with value: 0.007214035881209701 and parameters: {'n_layers': 4, 'units_l0': 121, 'units_l1': 119, 'units_l2': 65, 'units_l3': 85, 'dropout': 0.5397708777942022, 'lr': 0.0005005530597616026, 'batch_size': 512, 'optimizer': 'RMSprop'}. Best is trial 43 with value: 0.0025090400533955425.\n",
      "[I 2025-05-29 20:20:01,218] Trial 47 finished with value: 0.004476406096611206 and parameters: {'n_layers': 4, 'units_l0': 118, 'units_l1': 119, 'units_l2': 66, 'units_l3': 56, 'dropout': 0.33235071860091336, 'lr': 0.0002733428386430378, 'batch_size': 1024, 'optimizer': 'RMSprop'}. Best is trial 43 with value: 0.0025090400533955425.\n",
      "[I 2025-05-29 20:21:43,674] Trial 48 finished with value: 0.02341619667199635 and parameters: {'n_layers': 5, 'units_l0': 107, 'units_l1': 112, 'units_l2': 28, 'units_l3': 107, 'units_l4': 52, 'dropout': 0.27522469516164216, 'lr': 0.00023922507172918433, 'batch_size': 8192, 'optimizer': 'RMSprop'}. Best is trial 43 with value: 0.0025090400533955425.\n",
      "[I 2025-05-29 20:23:21,792] Trial 49 finished with value: 0.03556176462161915 and parameters: {'n_layers': 4, 'units_l0': 117, 'units_l1': 105, 'units_l2': 10, 'units_l3': 95, 'dropout': 0.44302434369613664, 'lr': 0.0003714850789897265, 'batch_size': 5000, 'optimizer': 'RMSprop'}. Best is trial 43 with value: 0.0025090400533955425.\n"
     ]
    }
   ],
   "execution_count": 6
  },
  {
   "metadata": {
    "ExecuteTime": {
     "end_time": "2025-05-29T17:23:21.898811Z",
     "start_time": "2025-05-29T17:23:21.893921Z"
    }
   },
   "cell_type": "code",
   "source": [
    "# Print best result\n",
    "print(\"Best trial:\")\n",
    "trial = study.best_trial\n",
    "print(\"  Value: \", trial.value)\n",
    "print(\"  Params: \")\n",
    "for key, value in trial.params.items():\n",
    "    print(f\"    {key}: {value}\")"
   ],
   "id": "ceed26879b7a6c03",
   "outputs": [
    {
     "name": "stdout",
     "output_type": "stream",
     "text": [
      "Best trial:\n",
      "  Value:  0.0025090400533955425\n",
      "  Params: \n",
      "    n_layers: 3\n",
      "    units_l0: 120\n",
      "    units_l1: 92\n",
      "    units_l2: 67\n",
      "    dropout: 0.22675761337411485\n",
      "    lr: 0.0008396370943424193\n",
      "    batch_size: 1024\n",
      "    optimizer: Adam\n"
     ]
    }
   ],
   "execution_count": 7
  },
  {
   "metadata": {
    "ExecuteTime": {
     "end_time": "2025-05-29T21:42:23.805710Z",
     "start_time": "2025-05-29T21:42:23.793922Z"
    }
   },
   "cell_type": "code",
   "source": [
    "input_dim = X_train_tensor.shape[1]\n",
    "device = torch.device(\"cuda\" if torch.cuda.is_available() else \"cpu\")"
   ],
   "id": "6667604b792915bd",
   "outputs": [],
   "execution_count": 8
  },
  {
   "metadata": {
    "ExecuteTime": {
     "end_time": "2025-05-29T21:42:25.178055Z",
     "start_time": "2025-05-29T21:42:25.159651Z"
    }
   },
   "cell_type": "code",
   "source": [
    "layers = []\n",
    "in_features = input_dim\n",
    "\n",
    "for i in range(trial.params[\"n_layers\"]):\n",
    "    out_features = trial.params[f\"units_l{i}\"]\n",
    "    layers.append(nn.Linear(in_features, out_features))\n",
    "    layers.append(nn.ReLU())\n",
    "    layers.append(nn.Dropout(trial.params[\"dropout\"]))\n",
    "    in_features = out_features\n",
    "\n",
    "layers.append(nn.Linear(in_features, num_classes))  # Output layer with num_classes units\n",
    "model_test = nn.Sequential(*layers).to(device)"
   ],
   "id": "ae08fa87a7968208",
   "outputs": [],
   "execution_count": 9
  },
  {
   "metadata": {
    "ExecuteTime": {
     "end_time": "2025-05-29T21:42:27.183720Z",
     "start_time": "2025-05-29T21:42:27.175169Z"
    }
   },
   "cell_type": "code",
   "source": [
    "#create the optimizer based on trial.params\n",
    "if trial.params[\"optimizer\"] == \"Adam\":\n",
    "    optimizer = optim.Adam(model_test.parameters(), lr=trial.params[\"lr\"])\n",
    "elif trial.params[\"optimizer\"] == \"SGD\":\n",
    "    optimizer = optim.SGD(model_test.parameters(), lr=trial.params[\"lr\"])\n",
    "elif trial.params[\"optimizer\"] == \"RMSprop\":\n",
    "    optimizer = optim.RMSprop(model_test.parameters(), lr=trial.params[\"lr\"])\n",
    "else:\n",
    "    raise ValueError(f\"Unsupported optimizer: {trial.params['optimizer']}\")"
   ],
   "id": "3d86c70e41d4ff20",
   "outputs": [],
   "execution_count": 10
  },
  {
   "metadata": {
    "ExecuteTime": {
     "end_time": "2025-05-29T21:42:29.132175Z",
     "start_time": "2025-05-29T21:42:29.125161Z"
    }
   },
   "cell_type": "code",
   "source": [
    "#create the dataloaders with the batch size from trial.params\n",
    "train_loader = DataLoader(train_dataset, batch_size=trial.params[\"batch_size\"], shuffle=True)\n",
    "test_loader = DataLoader(test_dataset, batch_size=trial.params[\"batch_size\"], shuffle=False)"
   ],
   "id": "738b2083539cd9eb",
   "outputs": [],
   "execution_count": 11
  },
  {
   "metadata": {
    "ExecuteTime": {
     "end_time": "2025-05-29T22:10:52.051749Z",
     "start_time": "2025-05-29T21:43:11.394738Z"
    }
   },
   "cell_type": "code",
   "source": [
    "criterion = nn.CrossEntropyLoss()  # For multi-class classification\n",
    "epochs = 100\n",
    "\n",
    "train_losses = []\n",
    "val_losses = []\n",
    "train_recalls = []\n",
    "val_recalls = []\n",
    "\n",
    "for epoch in range(epochs):\n",
    "    # Training phase\n",
    "    model_test.train()\n",
    "    running_train_loss = 0.0\n",
    "    train_preds = []\n",
    "    train_targets = []\n",
    "\n",
    "    for X_batch, y_batch in train_loader:\n",
    "        X_batch = X_batch.to(device)\n",
    "        y_batch = y_batch.to(device).long().view(-1)  # Integer labels, 1D\n",
    "\n",
    "        optimizer.zero_grad()\n",
    "        outputs = model_test(X_batch)  # Shape: [batch_size, num_classes]\n",
    "        loss = criterion(outputs, y_batch)\n",
    "        loss.backward()\n",
    "        optimizer.step()\n",
    "\n",
    "        running_train_loss += loss.item() * X_batch.size(0)\n",
    "\n",
    "        preds = torch.argmax(outputs, dim=1)\n",
    "        train_preds.extend(preds.cpu().numpy())\n",
    "        train_targets.extend(y_batch.cpu().numpy())\n",
    "\n",
    "    avg_train_loss = running_train_loss / len(train_loader.dataset)\n",
    "    train_recall = recall_score(train_targets, train_preds, average='macro')\n",
    "    train_losses.append(avg_train_loss)\n",
    "    train_recalls.append(train_recall)\n",
    "\n",
    "    # Validation phase\n",
    "    model_test.eval()\n",
    "    running_val_loss = 0.0\n",
    "    val_preds = []\n",
    "    val_targets = []\n",
    "\n",
    "    with torch.no_grad():\n",
    "        for X_batch, y_batch in test_loader:\n",
    "            X_batch = X_batch.to(device)\n",
    "            y_batch = y_batch.to(device).long().view(-1)\n",
    "\n",
    "            outputs = model_test(X_batch)\n",
    "            loss = criterion(outputs, y_batch)\n",
    "            running_val_loss += loss.item() * X_batch.size(0)\n",
    "\n",
    "            preds = torch.argmax(outputs, dim=1)\n",
    "            val_preds.extend(preds.cpu().numpy())\n",
    "            val_targets.extend(y_batch.cpu().numpy())\n",
    "\n",
    "    avg_val_loss = running_val_loss / len(test_loader.dataset)\n",
    "    val_recall = recall_score(val_targets, val_preds, average='macro')\n",
    "    val_losses.append(avg_val_loss)\n",
    "    val_recalls.append(val_recall)\n",
    "\n",
    "    print(f\"Epoch {epoch+1}/{epochs} - \"\n",
    "          f\"Train Loss: {avg_train_loss} - Val Loss: {avg_val_loss} - \"\n",
    "          f\"Train Recall: {train_recall} - Val Recall: {val_recall}\")"
   ],
   "id": "668966f3eb056415",
   "outputs": [
    {
     "name": "stdout",
     "output_type": "stream",
     "text": [
      "Epoch 1/100 - Train Loss: 0.24457423885150592 - Val Loss: 0.02673586686027192 - Train Recall: 0.37459986893205993 - Val Recall: 0.5386585776377456\n",
      "Epoch 2/100 - Train Loss: 0.022260471043630745 - Val Loss: 0.009639828662278806 - Train Recall: 0.5806073542699861 - Val Recall: 0.6275542778929316\n",
      "Epoch 3/100 - Train Loss: 0.01146743963554345 - Val Loss: 0.006907513829691279 - Train Recall: 0.6503748365122958 - Val Recall: 0.719718802508307\n",
      "Epoch 4/100 - Train Loss: 0.008011347075188297 - Val Loss: 0.004944201210518842 - Train Recall: 0.6981945900606102 - Val Recall: 0.7234307950085769\n",
      "Epoch 5/100 - Train Loss: 0.006226129040011402 - Val Loss: 0.004636448517478789 - Train Recall: 0.7082448305939857 - Val Recall: 0.7240843455326056\n",
      "Epoch 6/100 - Train Loss: 0.005552814548262521 - Val Loss: 0.0033728701154870193 - Train Recall: 0.7185443319828615 - Val Recall: 0.7239671138679451\n",
      "Epoch 7/100 - Train Loss: 0.004988616575143053 - Val Loss: 0.0032965168737275 - Train Recall: 0.7215330491086541 - Val Recall: 0.7246199446965169\n",
      "Epoch 8/100 - Train Loss: 0.004618486586999394 - Val Loss: 0.003416277985952584 - Train Recall: 0.7304664103847108 - Val Recall: 0.7241547497652481\n",
      "Epoch 9/100 - Train Loss: 0.00430369339711149 - Val Loss: 0.0038765008162036907 - Train Recall: 0.7344134518343103 - Val Recall: 0.7817414014435123\n",
      "Epoch 10/100 - Train Loss: 0.004035113431297729 - Val Loss: 0.002643290341864999 - Train Recall: 0.7453891403880689 - Val Recall: 0.7832434354578554\n",
      "Epoch 11/100 - Train Loss: 0.003786412571760926 - Val Loss: 0.002475716341366148 - Train Recall: 0.7513716280831112 - Val Recall: 0.7832861377296176\n",
      "Epoch 12/100 - Train Loss: 0.003651670816115068 - Val Loss: 0.0027305101806213033 - Train Recall: 0.7447161584431622 - Val Recall: 0.7832325752304797\n",
      "Epoch 13/100 - Train Loss: 0.003580206720549596 - Val Loss: 0.0029073365610275182 - Train Recall: 0.7464485199105227 - Val Recall: 0.7832812321823966\n",
      "Epoch 14/100 - Train Loss: 0.0032358466205620923 - Val Loss: 0.00205689937384824 - Train Recall: 0.7560151207772862 - Val Recall: 0.7833212595672395\n",
      "Epoch 15/100 - Train Loss: 0.0034459015180664117 - Val Loss: 0.002525068558032358 - Train Recall: 0.7429743488297263 - Val Recall: 0.7820039005466797\n",
      "Epoch 16/100 - Train Loss: 0.0031137325648291714 - Val Loss: 0.002290792478692814 - Train Recall: 0.7532750142493764 - Val Recall: 0.7833126462834588\n",
      "Epoch 17/100 - Train Loss: 0.0029682937105004518 - Val Loss: 0.0018868785396836255 - Train Recall: 0.755950737889279 - Val Recall: 0.7831558420263062\n",
      "Epoch 18/100 - Train Loss: 0.0029365541588999527 - Val Loss: 0.002141936695100417 - Train Recall: 0.7592093134600819 - Val Recall: 0.7833123149021273\n",
      "Epoch 19/100 - Train Loss: 0.0029920615907431097 - Val Loss: 0.0019441049175409066 - Train Recall: 0.7550524999407764 - Val Recall: 0.8043002805462603\n",
      "Epoch 20/100 - Train Loss: 0.002841596452081582 - Val Loss: 0.0019329186522416316 - Train Recall: 0.7599964429146225 - Val Recall: 0.783278594464909\n",
      "Epoch 21/100 - Train Loss: 0.0026942347801769267 - Val Loss: 0.0018118993938051498 - Train Recall: 0.7631459068485906 - Val Recall: 0.7833208850766403\n",
      "Epoch 22/100 - Train Loss: 0.002771515076391145 - Val Loss: 0.0018629321183193334 - Train Recall: 0.7608045194143841 - Val Recall: 0.8042886713376863\n",
      "Epoch 23/100 - Train Loss: 0.0027643911734186325 - Val Loss: 0.0017943089316813199 - Train Recall: 0.7589539220514122 - Val Recall: 0.7833257827401708\n",
      "Epoch 24/100 - Train Loss: 0.0027371883951033964 - Val Loss: 0.0022582986780476776 - Train Recall: 0.7659952914726037 - Val Recall: 0.8026116544615725\n",
      "Epoch 25/100 - Train Loss: 0.0026262837298645053 - Val Loss: 0.0024302536140225696 - Train Recall: 0.7619238054976545 - Val Recall: 0.8042916672624796\n",
      "Epoch 26/100 - Train Loss: 0.0025611827218396713 - Val Loss: 0.001767038320971178 - Train Recall: 0.7682375788554804 - Val Recall: 0.8042696284288445\n",
      "Epoch 27/100 - Train Loss: 0.0026400258058934404 - Val Loss: 0.0019877730514364866 - Train Recall: 0.7699057383947171 - Val Recall: 0.7831468542519263\n",
      "Epoch 28/100 - Train Loss: 0.0023899106856622825 - Val Loss: 0.001535276177717302 - Train Recall: 0.7704867005745423 - Val Recall: 0.8043085193394419\n",
      "Epoch 29/100 - Train Loss: 0.0025489101038792196 - Val Loss: 0.0019288256968639952 - Train Recall: 0.774721474271974 - Val Recall: 0.8042905671365876\n",
      "Epoch 30/100 - Train Loss: 0.002494420528041092 - Val Loss: 0.001782726566575434 - Train Recall: 0.7755307048675448 - Val Recall: 0.8043025567755968\n",
      "Epoch 31/100 - Train Loss: 0.0025279955685402794 - Val Loss: 0.0014896355250870032 - Train Recall: 0.7673363284240822 - Val Recall: 0.804315634660826\n",
      "Epoch 32/100 - Train Loss: 0.0024299180028204874 - Val Loss: 0.001653668460086842 - Train Recall: 0.777168639426408 - Val Recall: 0.8043029312661958\n",
      "Epoch 33/100 - Train Loss: 0.002296310789973407 - Val Loss: 0.0017862249248219843 - Train Recall: 0.7671353395826384 - Val Recall: 0.8042595171826672\n",
      "Epoch 34/100 - Train Loss: 0.0023058754659717766 - Val Loss: 0.0016448338084435392 - Train Recall: 0.7670136410331275 - Val Recall: 0.8042991804203684\n",
      "Epoch 35/100 - Train Loss: 0.0023697466907907773 - Val Loss: 0.001521713624373804 - Train Recall: 0.772874811568359 - Val Recall: 0.8042950317380361\n",
      "Epoch 36/100 - Train Loss: 0.0022013354723096944 - Val Loss: 0.001689798949891449 - Train Recall: 0.7736954426697804 - Val Recall: 0.8042858340264374\n",
      "Epoch 37/100 - Train Loss: 0.0023326554092827838 - Val Loss: 0.001399339008503327 - Train Recall: 0.7696377435995996 - Val Recall: 0.8043021763451617\n",
      "Epoch 38/100 - Train Loss: 0.002300058800367878 - Val Loss: 0.0015437308538948826 - Train Recall: 0.7758547178031368 - Val Recall: 0.8041262730674519\n",
      "Epoch 39/100 - Train Loss: 0.002248343309588433 - Val Loss: 0.0013632521806303116 - Train Recall: 0.7764181241499224 - Val Recall: 0.8043047977793557\n",
      "Epoch 40/100 - Train Loss: 0.0022251879894532 - Val Loss: 0.0022896398863480687 - Train Recall: 0.7792848616883933 - Val Recall: 0.8041120424246838\n",
      "Epoch 41/100 - Train Loss: 0.0022865038834986714 - Val Loss: 0.0021560726699096683 - Train Recall: 0.7793233490672591 - Val Recall: 0.8042886946835918\n",
      "Epoch 42/100 - Train Loss: 0.0021728504962496647 - Val Loss: 0.001476818442056542 - Train Recall: 0.7753693507141769 - Val Recall: 0.8039819546686325\n",
      "Epoch 43/100 - Train Loss: 0.0022193493622878215 - Val Loss: 0.0014150901231261713 - Train Recall: 0.7774588059167215 - Val Recall: 0.8043025508357609\n",
      "Epoch 44/100 - Train Loss: 0.002068579274115106 - Val Loss: 0.0019760792072679853 - Train Recall: 0.7818372213647414 - Val Recall: 0.8042860732493977\n",
      "Epoch 45/100 - Train Loss: 0.002113312999003893 - Val Loss: 0.0013936383296717291 - Train Recall: 0.7752258887331867 - Val Recall: 0.8042965530463384\n",
      "Epoch 46/100 - Train Loss: 0.0020975974926993 - Val Loss: 0.0014326364814955634 - Train Recall: 0.7700954702486379 - Val Recall: 0.80430292532636\n",
      "Epoch 47/100 - Train Loss: 0.002038269698275591 - Val Loss: 0.001790424134624292 - Train Recall: 0.7789714051972706 - Val Recall: 0.8042909416271868\n",
      "Epoch 48/100 - Train Loss: 0.002035465775745925 - Val Loss: 0.0014887240297209176 - Train Recall: 0.7813924450834393 - Val Recall: 0.8042980569485709\n",
      "Epoch 49/100 - Train Loss: 0.0019116422476917769 - Val Loss: 0.0013115588718127387 - Train Recall: 0.7801950674996714 - Val Recall: 0.8042961785557392\n",
      "Epoch 50/100 - Train Loss: 0.0017761489183650136 - Val Loss: 0.0016496903655532544 - Train Recall: 0.7803614100169952 - Val Recall: 0.8043032998169592\n",
      "Epoch 51/100 - Train Loss: 0.002026793512384571 - Val Loss: 0.0015576114785745216 - Train Recall: 0.7791337099891572 - Val Recall: 0.8042973079673725\n",
      "Epoch 52/100 - Train Loss: 0.002021511730451182 - Val Loss: 0.0012254261011808334 - Train Recall: 0.7818918866055088 - Val Recall: 0.8043077937041492\n",
      "Epoch 53/100 - Train Loss: 0.002108089692204866 - Val Loss: 0.001247368492627955 - Train Recall: 0.7759533541941566 - Val Recall: 0.8043118699914722\n",
      "Epoch 54/100 - Train Loss: 0.001871280205030407 - Val Loss: 0.001988895848236841 - Train Recall: 0.7735703975398042 - Val Recall: 0.8042714190669268\n",
      "Epoch 55/100 - Train Loss: 0.0018929120744173194 - Val Loss: 0.0013774364862224999 - Train Recall: 0.78054951918086 - Val Recall: 0.8043036743075583\n",
      "Epoch 56/100 - Train Loss: 0.0019301356008061656 - Val Loss: 0.0013709626381172514 - Train Recall: 0.7806825624314532 - Val Recall: 0.8043066271230839\n",
      "Epoch 57/100 - Train Loss: 0.001872231368314488 - Val Loss: 0.0013914225601115652 - Train Recall: 0.778151055371627 - Val Recall: 0.8043066271230839\n",
      "Epoch 58/100 - Train Loss: 0.0018168474159011995 - Val Loss: 0.0014385751261510355 - Train Recall: 0.783560110005208 - Val Recall: 0.8042991804203684\n",
      "Epoch 59/100 - Train Loss: 0.0019158304892121292 - Val Loss: 0.001435725511000168 - Train Recall: 0.7762179515172815 - Val Recall: 0.8042976824579717\n",
      "Epoch 60/100 - Train Loss: 0.0018217538900888437 - Val Loss: 0.00174237299917982 - Train Recall: 0.7829943371297621 - Val Recall: 0.804295392405109\n",
      "Epoch 61/100 - Train Loss: 0.0018290604599627708 - Val Loss: 0.001147574488706412 - Train Recall: 0.7837950693413022 - Val Recall: 0.8043156148974638\n",
      "Epoch 62/100 - Train Loss: 0.0019041501670334685 - Val Loss: 0.0014507444473988531 - Train Recall: 0.7796529456278136 - Val Recall: 0.8043040056888898\n",
      "Epoch 63/100 - Train Loss: 0.0018833293281790816 - Val Loss: 0.001383600982396888 - Train Recall: 0.7879515310021443 - Val Recall: 0.8043070016136831\n",
      "Epoch 64/100 - Train Loss: 0.0017720869505072165 - Val Loss: 0.0013436190356011487 - Train Recall: 0.7827379401570795 - Val Recall: 0.80430292532636\n",
      "Epoch 65/100 - Train Loss: 0.0018046571522759222 - Val Loss: 0.0013924890839614988 - Train Recall: 0.7789387812042594 - Val Recall: 0.8043118699914722\n",
      "Epoch 66/100 - Train Loss: 0.0017013316887942245 - Val Loss: 0.0011811690081100928 - Train Recall: 0.7849928086018827 - Val Recall: 0.8043152404068646\n",
      "Epoch 67/100 - Train Loss: 0.0017862823533830153 - Val Loss: 0.00117268639380556 - Train Recall: 0.7878491532279785 - Val Recall: 0.8043739357195876\n",
      "Epoch 68/100 - Train Loss: 0.001857229972182157 - Val Loss: 0.0012955822923766082 - Train Recall: 0.7819626853198032 - Val Recall: 0.8043051291606872\n",
      "Epoch 69/100 - Train Loss: 0.001762704674462496 - Val Loss: 0.0012568157989630712 - Train Recall: 0.7794027539967208 - Val Recall: 0.8043096230478771\n",
      "Epoch 70/100 - Train Loss: 0.0017958170226996105 - Val Loss: 0.0011673605693389246 - Train Recall: 0.7828894755881097 - Val Recall: 0.8043556585656\n",
      "Epoch 71/100 - Train Loss: 0.0016955613848254926 - Val Loss: 0.0013404606870297121 - Train Recall: 0.7842485633216871 - Val Recall: 0.804166989555124\n",
      "Epoch 72/100 - Train Loss: 0.0017874270994071436 - Val Loss: 0.001159219433193452 - Train Recall: 0.7799934523653778 - Val Recall: 0.8043148659162654\n",
      "Epoch 73/100 - Train Loss: 0.0016002381921224277 - Val Loss: 0.0012021022144272483 - Train Recall: 0.7840016890924603 - Val Recall: 0.8043148659162654\n",
      "Epoch 74/100 - Train Loss: 0.0016626201764770386 - Val Loss: 0.001475159304998874 - Train Recall: 0.7806348353064133 - Val Recall: 0.8043066271230839\n",
      "Epoch 75/100 - Train Loss: 0.0017611449900017282 - Val Loss: 0.0016001552703845524 - Train Recall: 0.7805151620603291 - Val Recall: 0.8041276986348396\n",
      "Epoch 76/100 - Train Loss: 0.0017556336822800503 - Val Loss: 0.0012786059623822225 - Train Recall: 0.7833437767298089 - Val Recall: 0.8043077505948815\n",
      "Epoch 77/100 - Train Loss: 0.0018786003954837465 - Val Loss: 0.0014044371222910216 - Train Recall: 0.7832846970237274 - Val Recall: 0.8043761826631827\n",
      "Epoch 78/100 - Train Loss: 0.0018616656471323867 - Val Loss: 0.0012214631677754141 - Train Recall: 0.7876753826628128 - Val Recall: 0.8043099975384763\n",
      "Epoch 79/100 - Train Loss: 0.0018268174483450437 - Val Loss: 0.001338988169949503 - Train Recall: 0.787146882892246 - Val Recall: 0.8043217954674148\n",
      "Epoch 80/100 - Train Loss: 0.0018071898804885831 - Val Loss: 0.0012416671612799333 - Train Recall: 0.7750333248046978 - Val Recall: 0.8043541606032035\n",
      "Epoch 81/100 - Train Loss: 0.00177754712206 - Val Loss: 0.0016933837868648783 - Train Recall: 0.7807858292096923 - Val Recall: 0.8043351046919138\n",
      "Epoch 82/100 - Train Loss: 0.0017930469698955742 - Val Loss: 0.0012711291546011316 - Train Recall: 0.7856844831878593 - Val Recall: 0.8043709397947943\n",
      "Epoch 83/100 - Train Loss: 0.0017052528261352678 - Val Loss: 0.0011812436988493228 - Train Recall: 0.7829127924685774 - Val Recall: 0.8043148659162654\n",
      "Epoch 84/100 - Train Loss: 0.0017130882848532339 - Val Loss: 0.0012597523578604419 - Train Recall: 0.7880441218764141 - Val Recall: 0.8043894785545177\n",
      "Epoch 85/100 - Train Loss: 0.0015713984654588773 - Val Loss: 0.0012121965064358007 - Train Recall: 0.7795643673567686 - Val Recall: 0.8043754336819844\n",
      "Epoch 86/100 - Train Loss: 0.0017458082755289815 - Val Loss: 0.0011617214200287437 - Train Recall: 0.7866563364357045 - Val Recall: 0.8649829922504416\n",
      "Epoch 87/100 - Train Loss: 0.0017173473120389714 - Val Loss: 0.001277872995802485 - Train Recall: 0.7950394733553278 - Val Recall: 0.8043044232887566\n",
      "Epoch 88/100 - Train Loss: 0.0018419895150883347 - Val Loss: 0.001228872417991039 - Train Recall: 0.7806809562146604 - Val Recall: 0.8043141169350672\n",
      "Epoch 89/100 - Train Loss: 0.0017339612875555486 - Val Loss: 0.001277690687493133 - Train Recall: 0.7818682452263601 - Val Recall: 0.8043545350938026\n",
      "Epoch 90/100 - Train Loss: 0.0017079652222060612 - Val Loss: 0.001260311753956863 - Train Recall: 0.7868981179459964 - Val Recall: 0.8043103720290755\n",
      "Epoch 91/100 - Train Loss: 0.0017130562810166248 - Val Loss: 0.00148944369746333 - Train Recall: 0.7832476131969258 - Val Recall: 0.8044038681415465\n",
      "Epoch 92/100 - Train Loss: 0.0018327312757873322 - Val Loss: 0.0018323428935051926 - Train Recall: 0.7810498483186261 - Val Recall: 0.8042822852341384\n",
      "Epoch 93/100 - Train Loss: 0.0016008169926858406 - Val Loss: 0.0012822440513567978 - Train Recall: 0.7814923717896147 - Val Recall: 0.8043103720290755\n",
      "Epoch 94/100 - Train Loss: 0.0017498946017078906 - Val Loss: 0.0016934272655415403 - Train Recall: 0.7831869220732625 - Val Recall: 0.8043264482988653\n",
      "Epoch 95/100 - Train Loss: 0.001777033012394889 - Val Loss: 0.0017912296082902809 - Train Recall: 0.7867089314258094 - Val Recall: 0.8042894436647902\n",
      "Epoch 96/100 - Train Loss: 0.0016128965187023772 - Val Loss: 0.0017562398681722695 - Train Recall: 0.7894103539561304 - Val Recall: 0.8043017587452947\n",
      "Epoch 97/100 - Train Loss: 0.0016299938257004554 - Val Loss: 0.0011658665439439558 - Train Recall: 0.7836430049477913 - Val Recall: 0.8113475420868096\n",
      "Epoch 98/100 - Train Loss: 0.0015612886654265805 - Val Loss: 0.002031555469542513 - Train Recall: 0.7866916356333662 - Val Recall: 0.8043754068560102\n",
      "Epoch 99/100 - Train Loss: 0.0016525409039249604 - Val Loss: 0.0011345469690534943 - Train Recall: 0.7865658286953704 - Val Recall: 0.8113696072560566\n",
      "Epoch 100/100 - Train Loss: 0.0014736533024057182 - Val Loss: 0.0013906129368421705 - Train Recall: 0.7860342405368491 - Val Recall: 0.871967760450267\n"
     ]
    }
   ],
   "execution_count": 12
  },
  {
   "metadata": {
    "ExecuteTime": {
     "end_time": "2025-05-29T22:11:27.897168Z",
     "start_time": "2025-05-29T22:11:27.615393Z"
    }
   },
   "cell_type": "code",
   "source": [
    "#display the final plots for losses and recalls\n",
    "plt.figure(figsize=(12, 5))\n",
    "\n",
    "plt.subplot(1, 2, 1)\n",
    "plt.plot(train_losses, label='Train Loss')\n",
    "plt.plot(val_losses, label='Validation Loss')\n",
    "plt.xlabel('Epoch')\n",
    "plt.ylabel('Loss')\n",
    "plt.title('Train vs Validation Loss')\n",
    "plt.legend()\n",
    "plt.grid(True)\n",
    "\n",
    "# Plot recall\n",
    "plt.subplot(1, 2, 2)\n",
    "plt.plot(train_recalls, label='Train Recall')\n",
    "plt.plot(val_recalls, label='Validation Recall')\n",
    "plt.xlabel('Epoch')\n",
    "plt.ylabel('Recall')\n",
    "plt.title('Train vs Validation Recall')\n",
    "plt.legend()\n",
    "plt.grid(True)\n",
    "\n",
    "plt.tight_layout()\n",
    "plt.show()"
   ],
   "id": "b507f8bd20d91198",
   "outputs": [
    {
     "data": {
      "text/plain": [
       "<Figure size 1200x500 with 2 Axes>"
      ],
      "image/png": "[encoded data removed]"
     },
     "metadata": {},
     "output_type": "display_data"
    }
   ],
   "execution_count": 14
  }
 ],
 "metadata": {
  "kernelspec": {
   "display_name": "Python 3",
   "language": "python",
   "name": "python3"
  },
  "language_info": {
   "codemirror_mode": {
    "name": "ipython",
    "version": 2
   },
   "file_extension": ".py",
   "mimetype": "text/x-python",
   "name": "python",
   "nbconvert_exporter": "python",
   "pygments_lexer": "ipython2",
   "version": "2.7.6"
  }
 },
 "nbformat": 4,
 "nbformat_minor": 5
}
