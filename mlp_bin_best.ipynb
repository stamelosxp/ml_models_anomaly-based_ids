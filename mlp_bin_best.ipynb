{
 "cells": [
  {
   "metadata": {
    "ExecuteTime": {
     "end_time": "2025-05-29T15:12:44.479308Z",
     "start_time": "2025-05-29T15:12:32.167457Z"
    }
   },
   "cell_type": "code",
   "source": [
    "from sklearn.metrics import accuracy_score, classification_report, confusion_matrix, recall_score, precision_score, f1_score, roc_auc_score, log_loss\n",
    "\n",
    "import torch\n",
    "import torch.nn as nn\n",
    "import torch.optim as optim\n",
    "from torch.utils.data import TensorDataset, DataLoader\n",
    "\n",
    "import pandas as pd\n",
    "import numpy as np\n",
    "import os\n",
    "import matplotlib.pyplot as plt\n",
    "import seaborn as sns\n",
    "import time\n",
    "import csv\n",
    "import shap\n",
    "\n",
    "\n",
    "#load the preprocessed data\n",
    "X_train = pd.read_csv(\"X_train_bin.csv\")\n",
    "X_test = pd.read_csv(\"X_test_bin.csv\")\n",
    "y_train = pd.read_csv(\"y_train_bin.csv\").squeeze()\n",
    "y_test = pd.read_csv(\"y_test_bin.csv\").squeeze()"
   ],
   "id": "4687431466c990af",
   "outputs": [],
   "execution_count": 1
  },
  {
   "metadata": {
    "ExecuteTime": {
     "end_time": "2025-05-29T15:12:44.896133Z",
     "start_time": "2025-05-29T15:12:44.829672Z"
    }
   },
   "cell_type": "code",
   "source": [
    "#dataframes to tensors\n",
    "X_train_tensor = torch.tensor(X_train.values, dtype=torch.float32)\n",
    "y_train_tensor = torch.tensor(y_train.values, dtype=torch.float32).view(-1, 1)\n",
    "X_test_tensor = torch.tensor(X_test.values, dtype=torch.float32)\n",
    "y_test_tensor = torch.tensor(y_test.values, dtype=torch.float32).view(-1, 1)"
   ],
   "id": "3b57bd34da98e20a",
   "outputs": [],
   "execution_count": 2
  },
  {
   "metadata": {
    "ExecuteTime": {
     "end_time": "2025-05-29T15:12:45.124280Z",
     "start_time": "2025-05-29T15:12:44.930843Z"
    }
   },
   "cell_type": "code",
   "source": [
    "#Load the data to gpu if available\n",
    "device = torch.device(\"cuda\" if torch.cuda.is_available() else \"cpu\")\n",
    "X_train_tensor = X_train_tensor.to(device)\n",
    "y_train_tensor = y_train_tensor.to(device)\n",
    "X_test_tensor = X_test_tensor.to(device)\n",
    "y_test_tensor = y_test_tensor.to(device)"
   ],
   "id": "3094b035b3525e9e",
   "outputs": [],
   "execution_count": 3
  },
  {
   "metadata": {
    "ExecuteTime": {
     "end_time": "2025-05-29T15:12:45.321743Z",
     "start_time": "2025-05-29T15:12:45.318264Z"
    }
   },
   "cell_type": "code",
   "source": [
    "num_layers = 4\n",
    "hidden_sizes = [107, 20, 109, 60]\n",
    "dropout = 0.2725519019624006\n",
    "lr = 0.0002363411909183287\n",
    "batch_size = 256\n",
    "optimizer_name = 'Adam'  # Using Adam optimizer as per the params\n",
    "num_epoch = 10"
   ],
   "id": "c8896b1d6d78be73",
   "outputs": [],
   "execution_count": 4
  },
  {
   "metadata": {
    "ExecuteTime": {
     "end_time": "2025-05-29T15:12:45.384581Z",
     "start_time": "2025-05-29T15:12:45.356141Z"
    }
   },
   "cell_type": "code",
   "source": [
    "# Define model architecture\n",
    "layers = []\n",
    "in_features = X_train.shape[1]  # This should be defined earlier in your code\n",
    "\n",
    "for i in range(num_layers):\n",
    "    out_features = hidden_sizes[i]\n",
    "    layers.append(nn.Linear(in_features, out_features))\n",
    "    layers.append(nn.ReLU())\n",
    "    layers.append(nn.Dropout(dropout))\n",
    "    in_features = out_features\n",
    "\n",
    "layers.append(nn.Linear(in_features, 1))  # Output layer\n",
    "\n",
    "mlp_model = nn.Sequential(*layers).to(device)  # Ensure `device` is defined, e.g., torch.device(\"cuda\" or \"cpu\")"
   ],
   "id": "7e5e36fff3427f1b",
   "outputs": [],
   "execution_count": 5
  },
  {
   "metadata": {
    "ExecuteTime": {
     "end_time": "2025-05-29T15:12:47.498150Z",
     "start_time": "2025-05-29T15:12:45.429123Z"
    }
   },
   "cell_type": "code",
   "source": [
    "#define loss function for binary classification\n",
    "loss_fn = nn.BCEWithLogitsLoss()\n",
    "\n",
    "# Create the optimizer based on the variable `optimizer_name`\n",
    "if optimizer_name == \"Adam\":\n",
    "    optimizer = optim.Adam(mlp_model.parameters(), lr=lr)\n",
    "elif optimizer_name == \"SGD\":\n",
    "    optimizer = optim.SGD(mlp_model.parameters(), lr=lr)\n",
    "elif optimizer_name == \"RMSprop\":\n",
    "    optimizer = optim.RMSprop(mlp_model.parameters(), lr=lr)\n",
    "else:\n",
    "    raise ValueError(f\"Unsupported optimizer: {optimizer_name}\")"
   ],
   "id": "2c7e3a3252d54900",
   "outputs": [],
   "execution_count": 6
  },
  {
   "metadata": {
    "ExecuteTime": {
     "end_time": "2025-05-29T15:12:47.535863Z",
     "start_time": "2025-05-29T15:12:47.531479Z"
    }
   },
   "cell_type": "code",
   "source": [
    "#train and test sets loaders\n",
    "train_dataset = TensorDataset(X_train_tensor, y_train_tensor)\n",
    "train_loader = DataLoader(train_dataset, batch_size=batch_size, shuffle=False)\n",
    "test_dataset = TensorDataset(X_test_tensor, y_test_tensor)\n",
    "test_loader = DataLoader(test_dataset, batch_size=batch_size, shuffle=False)"
   ],
   "id": "64b5d45331b01977",
   "outputs": [],
   "execution_count": 7
  },
  {
   "metadata": {
    "ExecuteTime": {
     "end_time": "2025-05-29T15:16:09.198955Z",
     "start_time": "2025-05-29T15:12:47.569022Z"
    }
   },
   "cell_type": "code",
   "source": [
    "#training phase\n",
    "\n",
    "start_time = time.perf_counter()\n",
    "for epoch in range(num_epoch):\n",
    "    mlp_model.train()\n",
    "    for inputs, labels in train_loader:\n",
    "        #fix input dimensions\n",
    "        inputs = inputs.view(inputs.size(0), -1)\n",
    "\n",
    "        #load data to the same device as the model\n",
    "        inputs.to(device)\n",
    "        labels = labels.to(device)\n",
    "\n",
    "        # clear gradients from previous step\n",
    "        optimizer.zero_grad()\n",
    "        outputs = mlp_model(inputs)\n",
    "\n",
    "        #calculate the loss\n",
    "        loss = loss_fn(outputs, labels)\n",
    "\n",
    "        #compute gradients of the loss\n",
    "        loss.backward()\n",
    "        #compute gradients of the loss\n",
    "        optimizer.step()\n",
    "\n",
    "end_time = time.perf_counter()\n",
    "training_time = end_time - start_time\n",
    "print(f\"\\nTraining (convergence) time: {training_time} seconds\")"
   ],
   "id": "20313583225a97ff",
   "outputs": [
    {
     "name": "stdout",
     "output_type": "stream",
     "text": [
      "\n",
      "Training (convergence) time: 201.61794759999975 seconds\n"
     ]
    }
   ],
   "execution_count": 8
  },
  {
   "metadata": {
    "ExecuteTime": {
     "end_time": "2025-05-29T15:16:12.572828Z",
     "start_time": "2025-05-29T15:16:09.284664Z"
    }
   },
   "cell_type": "code",
   "source": [
    "# Collect predictions and labels\n",
    "all_labels = []\n",
    "all_probs = []\n",
    "\n",
    "mlp_model.eval()\n",
    "with torch.no_grad():\n",
    "    for inputs, labels in test_loader:\n",
    "        inputs = inputs.view(inputs.size(0), -1)\n",
    "        outputs = mlp_model(inputs)\n",
    "        all_probs.append(outputs.cpu())\n",
    "        all_labels.append(labels.cpu())"
   ],
   "id": "a95f8266d7107f6b",
   "outputs": [],
   "execution_count": 9
  },
  {
   "metadata": {
    "ExecuteTime": {
     "end_time": "2025-05-29T15:16:12.661624Z",
     "start_time": "2025-05-29T15:16:12.650229Z"
    }
   },
   "cell_type": "code",
   "source": [
    "# Convert to numpy arrays\n",
    "y_pred_proba = torch.cat(all_probs).numpy().squeeze()\n",
    "y_true = torch.cat(all_labels).numpy()\n",
    "\n",
    "# Convert probabilities to class predictions (threshold at 0.5)\n",
    "y_pred = (y_pred_proba > 0.5).astype(float)  # Changed from 0 to 0.5 for proper classification"
   ],
   "id": "e78ae561cc919e96",
   "outputs": [],
   "execution_count": 10
  },
  {
   "metadata": {
    "ExecuteTime": {
     "end_time": "2025-05-29T15:16:12.989139Z",
     "start_time": "2025-05-29T15:16:12.746416Z"
    }
   },
   "cell_type": "code",
   "source": [
    "# Calculate metrics\n",
    "accuracy = accuracy_score(y_true, y_pred)\n",
    "recall = recall_score(y_true, y_pred)\n",
    "precision = precision_score(y_true, y_pred)\n",
    "f1 = f1_score(y_true, y_pred)\n",
    "roc_auc = roc_auc_score(y_true, y_pred_proba)\n",
    "logloss = log_loss(y_true, y_pred_proba)\n",
    "\n",
    "print(f\"Accuracy: {accuracy}\")\n",
    "print(f\"Recall: {recall}\")\n",
    "print(f\"Precision: {precision}\")\n",
    "print(f\"F1 Score: {f1}\")\n",
    "print(f\"ROC AUC: {roc_auc}\")\n",
    "print(f\"Log Loss: {logloss}\")"
   ],
   "id": "63073970e07d571a",
   "outputs": [
    {
     "name": "stdout",
     "output_type": "stream",
     "text": [
      "Accuracy: 0.9996200656424402\n",
      "Recall: 0.9993613216384228\n",
      "Precision: 0.9989501610225999\n",
      "F1 Score: 0.9991556990315371\n",
      "ROC AUC: 0.9999783956188377\n",
      "Log Loss: 0.0056444170050345775\n"
     ]
    }
   ],
   "execution_count": 11
  },
  {
   "metadata": {
    "ExecuteTime": {
     "end_time": "2025-05-29T15:16:13.194069Z",
     "start_time": "2025-05-29T15:16:13.092010Z"
    }
   },
   "cell_type": "code",
   "source": [
    "print(\"\\nClassification Report:\")\n",
    "print(classification_report(y_true, y_pred))"
   ],
   "id": "1ea1e456f18996f6",
   "outputs": [
    {
     "name": "stdout",
     "output_type": "stream",
     "text": [
      "\n",
      "Classification Report:\n",
      "              precision    recall  f1-score   support\n",
      "\n",
      "         0.0       1.00      1.00      1.00    242754\n",
      "         1.0       1.00      1.00      1.00     70458\n",
      "\n",
      "    accuracy                           1.00    313212\n",
      "   macro avg       1.00      1.00      1.00    313212\n",
      "weighted avg       1.00      1.00      1.00    313212\n",
      "\n"
     ]
    }
   ],
   "execution_count": 12
  },
  {
   "metadata": {
    "ExecuteTime": {
     "end_time": "2025-05-29T15:16:13.564556Z",
     "start_time": "2025-05-29T15:16:13.302084Z"
    }
   },
   "cell_type": "code",
   "source": [
    "# List of class labels in the correct order\n",
    "labels = [\n",
    "    'Benign',\n",
    "    'Attack'\n",
    "]\n",
    "cm = confusion_matrix(y_true, y_pred)\n",
    "tn, fp, fn, tp = cm.ravel()\n",
    "\n",
    "sns.heatmap(cm, annot=True, fmt='d', cmap='Blues', xticklabels=labels, yticklabels=labels, cbar=False)\n",
    "\n",
    "plt.xlabel('Predicted Labels')\n",
    "plt.ylabel('True Labels')\n",
    "plt.title('Confusion Matrix MLP Binary Classification')\n",
    "plt.xticks(rotation=45, ha='right')\n",
    "plt.yticks(rotation=0)\n",
    "plt.tight_layout()\n",
    "plt.show()"
   ],
   "id": "138f9779a475363a",
   "outputs": [
    {
     "data": {
      "text/plain": [
       "<Figure size 640x480 with 1 Axes>"
      ],
      "image/png": "[encoded data removed]"
     },
     "metadata": {},
     "output_type": "display_data"
    }
   ],
   "execution_count": 13
  },
  {
   "metadata": {
    "ExecuteTime": {
     "end_time": "2025-05-29T15:16:13.649355Z",
     "start_time": "2025-05-29T15:16:13.644943Z"
    }
   },
   "cell_type": "code",
   "source": [
    "#export results\n",
    "#deep learning\n",
    "results_list = [\"mlp_binary\", training_time, accuracy, recall, precision, f1, roc_auc, logloss, tn, fp, fn, tp]\n",
    "file_path = 'results.csv'\n",
    "\n",
    "# Check if the file exists to avoid duplicate headers\n",
    "file_exists = os.path.isfile(file_path)\n",
    "\n",
    "# Open and write to the file\n",
    "with open(file_path, mode='a', newline='') as file:\n",
    "    writer = csv.writer(file)\n",
    "    # Write the data row\n",
    "    writer.writerow(results_list)"
   ],
   "id": "ab91774d929a20bc",
   "outputs": [],
   "execution_count": 14
  }
 ],
 "metadata": {
  "kernelspec": {
   "display_name": "Python 3",
   "language": "python",
   "name": "python3"
  },
  "language_info": {
   "codemirror_mode": {
    "name": "ipython",
    "version": 2
   },
   "file_extension": ".py",
   "mimetype": "text/x-python",
   "name": "python",
   "nbconvert_exporter": "python",
   "pygments_lexer": "ipython2",
   "version": "2.7.6"
  }
 },
 "nbformat": 4,
 "nbformat_minor": 5
}
